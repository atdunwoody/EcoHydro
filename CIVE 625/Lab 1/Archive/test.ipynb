{
 "cells": [
  {
   "cell_type": "code",
   "execution_count": null,
   "metadata": {},
   "outputs": [],
   "source": [
    "from IPython.display import display\n",
    "import pandas as pd\n",
    "\n",
    "\n",
    "def display_averages(df, caption):\n",
    "    # Calculate daily averages, column is in cumulative hours\n",
    "    df['Day'] = df['Total Hour'] // 24\n",
    "    # Resetting the index here with as_index=False to keep 'Day' as a column\n",
    "    daily_averages = df.groupby('Day', as_index=False).mean()\n",
    "\n",
    "    # Calculate Bowen Ratio and Fractional Contribution\n",
    "    daily_averages['Bowen Ratio'] = daily_averages['H'] / daily_averages['lambdaE']\n",
    "    daily_averages['Fractional Contribution of Ei to ET'] = daily_averages['lambdaEl (C=Cactual)'] / daily_averages['lambdaE']\n",
    "\n",
    "    # Select the columns you want to display\n",
    "    columns_to_display = ['Day', 'Rn', 'lambdaE', 'H', 'lambdaEl (C=Cactual)', 'Bowen Ratio', 'Fractional Contribution of Ei to ET']\n",
    "\n",
    "    # Style the DataFrame for better presentation\n",
    "    styled_df = daily_averages[columns_to_display].style.set_table_styles(\n",
    "        [{\n",
    "            'selector': 'th',\n",
    "            'props': [('text-align', 'center')]\n",
    "        }],\n",
    "        overwrite=False\n",
    "    ).set_properties(**{'text-align': 'center'}).format(\n",
    "        # Specify formatting for each column individually\n",
    "        {\"Day\": \"{:.0f}\", \"Rn\": \"{:.2f}\", \"lambdaE\": \"{:.2f}\", \"H\": \"{:.2f}\", \n",
    "        \"lambdaEl (C=Cactual)\": \"{:.2f}\", \"Bowen Ratio\": \"{:.2f}\", \"Fractional Contribution\": \"{:.2f}\"}\n",
    "    ).set_caption(caption) # Add caption here\n",
    "\n",
    "    # Display the styled DataFrame\n",
    "    display(styled_df)\n",
    "\n",
    "forest_fn = r\"fahim_forest.csv\"\n",
    "grass_fn = \"fahim_grass.csv\"\n",
    "\n",
    "forest_data = pd.read_csv(forest_fn)\n",
    "grass_data = pd.read_csv(grass_fn)\n",
    "\n",
    "display_averages(forest_data, \"Forest\")\n",
    "display_averages(grass_data, \"Grass\")"
   ]
  }
 ],
 "metadata": {
  "language_info": {
   "name": "python"
  }
 },
 "nbformat": 4,
 "nbformat_minor": 2
}
