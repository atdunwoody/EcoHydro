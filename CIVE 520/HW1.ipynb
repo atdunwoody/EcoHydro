{
 "cells": [
  {
   "cell_type": "code",
   "execution_count": null,
   "metadata": {},
   "outputs": [],
   "source": []
  },
  {
   "cell_type": "markdown",
   "metadata": {},
   "source": [
    "$$e_{\\text{sat\\_10km}}(223) = (611 \\, \\text{Pa}) \\times \\exp \\left( \\frac{2.85 \\times 10^6 \\, \\text{J kg}^{-1}}{461 \\, \\text{J kg}^{-1} \\text{K}^{-1}} \\left[ \\frac{1}{273.16 \\, \\text{K}} - \\frac{1}{223 \\, \\text{K}} \\right] \\right)$$\n",
    "\n",
    "\n",
    "$$e_{\\text{sat\\_10km}} = 0.038 \\, \\text{Pa}$$\n",
    "\n",
    "$$\\rho_{v\\_10km} = \\frac{0.038\\, \\text{Pa}}{223 \\, \\text{K} \\times 461 \\, \\text{J kg}^{-1} \\text{K}^{-1}}$$\n",
    "\n",
    "$$\\rho_{v\\_10km} = 3.66 \\times 10^{-5} \\, \\text{kg m}^{-3}$$\n"
   ]
  }
 ],
 "metadata": {
  "language_info": {
   "name": "python"
  }
 },
 "nbformat": 4,
 "nbformat_minor": 2
}
