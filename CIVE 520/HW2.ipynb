{
 "cells": [
  {
   "cell_type": "markdown",
   "metadata": {},
   "source": [
    "### Constants or conversions you may need for this homework:  \n",
    "$L_v = 2.5 \\times 10^6 \\, \\text{J kg}^{-1}$  \n",
    "$R_d = 287 \\, \\text{J kg}^{-1} \\text{K}^{-1}$  \n",
    "$R_v = 461 \\, \\text{J kg}^{-1} \\text{K}^{-1}$  \n",
    "$g = 9.81 \\, \\text{m s}^{-2}$  \n",
    "$\\rho_w = 1000 \\, \\text{kg m}^{-3}$  \n",
    "$0^\\circ\\text{C} = 273.15 \\, \\text{K}$  \n",
    "\n",
    "\n",
    "\n"
   ]
  },
  {
   "cell_type": "markdown",
   "metadata": {},
   "source": [
    "### **Problem 1: What is an adiabatic process? Why do air parcels cool when they are lifted in the atmosphere?**  \n",
    "#### Explain using relevant law(s) of thermodynamics.  \n",
    "\n"
   ]
  },
  {
   "cell_type": "markdown",
   "metadata": {},
   "source": [
    "### **Problem 2:** \n",
    "An air parcel near the surface has a temperature of 25ºC, a specific humidity of 12 g/kg, and surface pressure of 101,300 Pa.** Suppose that the temperature profile of the ambient air is given by:  \n",
    "\n",
    "$$T(z) = T_{\\text{surface}} - \\Gamma_a \\ast z$$\n",
    "\n",
    "where the ambient lapse rate, $\\Gamma_a = 7.5 \\times 10^{-3} \\, \\text{K/m}$ and $T_{\\text{surface}} = 25^\\circ\\text{C}$. The pressure profile for an environment with a linear temperature lapse rate can be derived from the hydrostatic equation and the ideal gas law and is equal to:  \n",
    "\n",
    "$$p(z) = p_{\\text{surface}} \\left( \\frac{T(z)}{T_{\\text{surface}}} \\right)^{\\frac{g}{R_d \\Gamma_a}}$$\n",
    "\n",
    "a) Generate a plot of $q_s$ as a function of atmospheric height, $z$, from the surface to the approximate tropopause height (12km).  \n",
    "b) If the air parcel is lifted adiabatically, at what height would you expect a cloud to form? In other words, what is the lifting condensation level, defined as the point where $q = q_s$?  \n",
    "c) At the lifting condensation level, will the parcel be positively, neutrally, or negatively buoyant compared to the environment, and why?  \n",
    "d) What is the moist adiabatic lapse rate at the LCL? Hint:  \n",
    "\n",
    "$$\\frac{d(e^{a-\\frac{b}{x}})}{dx} = \\frac{b \\ast e^{a-\\frac{b}{x}}}{x^2}$$\n",
    "\n",
    "e) **Generate a plot showing the temperature of the environment and the temperature of the parcel as a function of atmospheric height, $z$, from the surface to the approximate tropopause height (12km).** Assume the parcel is lifted adiabatically.  \n",
    "\n",
    "f) **Approximately what heights correspond to the level of free convection and the level of neutral buoyancy?**  \n",
    "\n"
   ]
  },
  {
   "cell_type": "markdown",
   "metadata": {},
   "source": [
    "### **Problem 3: Meteorology of Precipitation**  \n",
    "a. **What are the four main mechanisms of vertical uplift in the atmosphere that lead to cloud formation and precipitation?** Provide a short description of each mechanism.  \n",
    "b. **Choose a location that interests you and read about the precipitation in that location. What are the main mechanisms leading to precipitation in that location? Is there a strong seasonal cycle in precipitation in that location? Why?**  "
   ]
  },
  {
   "cell_type": "markdown",
   "metadata": {},
   "source": [
    "### **Problem 4:**\n",
    "\n",
    "Suppose a cloud has a Marshall-Palmer drop size distribution with an average drop diameter of 1 mm and $N_0 = 8000 \\, \\text{m}^{-3} \\, \\text{mm}^{-1}$.\n",
    "\n",
    "**a. What is the total number of drops in the cloud (per cubic meter of air)?**  \n",
    "\n",
    "**b. What is the liquid water content of the cloud (in grams per cubic meter of air)?**  \n",
    "Show all steps in your calculation. Hint: a helpful integral is $\\int_0^\\infty x^n e^{-\\alpha x} dx = \\frac{n!}{\\alpha^{n+1}}$\n",
    "\n",
    "**c. Assume that the terminal velocity of droplets in the cloud follows a linear form with multiplicative factor $\\alpha = 1500 \\, \\text{s}^{-1}$ and that the cloud has an updraft velocity of $3 \\, \\text{m s}^{-1}$. What is the minimum drop size that will precipitate out of the cloud?**  \n",
    "\n",
    "**d. Calculate the precipitation rate at the surface $\\frac{\\text{mm}}{\\text{hr}}$.** You can assume that evaporation in the sub-cloud layer is negligible. Note that since the limits of the integral have changed, you can no longer use the hint from part b) and you may want to integrate numerically to get your answer.\n"
   ]
  },
  {
   "cell_type": "code",
   "execution_count": 5,
   "metadata": {},
   "outputs": [
    {
     "name": "stdout",
     "output_type": "stream",
     "text": [
      "1.0*(-2.0*x**10 - 40.0*x**9 - 720.0*x**8 - 11520.0*x**7 - 161280.0*x**6 - 1935360.0*x**5 - 19353600.0*x**4 - 154828800.0*x**3 - 928972800.0*x**2 - 3715891200.0*x - 7431782400.0)*exp(-0.5*x)\n",
      "-7330002143.86726\n"
     ]
    }
   ],
   "source": [
    "import sympy as sp\n",
    "\n",
    "# Define the symbols\n",
    "alpha = 0.5\n",
    "n = 10\n",
    "\n",
    "x = sp.symbols('x')\n",
    "\n",
    "# Define the function to integrate\n",
    "f = x**n * sp.exp(-alpha * x)\n",
    "\n",
    "# Solve the integral symbolically\n",
    "integral_result = sp.integrate(f, x)\n",
    "\n",
    "# Substitute x with 10 in the integral result and evaluate\n",
    "result_at_x_10 = integral_result.subs(x, 10).evalf()\n",
    "\n",
    "\n",
    "# Print the symbolic solution\n",
    "print(integral_result)\n",
    "# Print the evaluated result\n",
    "print(result_at_x_10)\n"
   ]
  }
 ],
 "metadata": {
  "kernelspec": {
   "display_name": "EcoHydro",
   "language": "python",
   "name": "python3"
  },
  "language_info": {
   "codemirror_mode": {
    "name": "ipython",
    "version": 3
   },
   "file_extension": ".py",
   "mimetype": "text/x-python",
   "name": "python",
   "nbconvert_exporter": "python",
   "pygments_lexer": "ipython3",
   "version": "3.11.7"
  }
 },
 "nbformat": 4,
 "nbformat_minor": 2
}
