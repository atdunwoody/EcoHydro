{
 "cells": [
  {
   "cell_type": "markdown",
   "metadata": {},
   "source": [
    "# Exploring and Visualizing Weather Data\n",
    "\n",
    "This tutorial will guide you through the process of loading, exploring, and visualizing weather data using Python libraries `pandas`, `seaborn`, and `plotly`. \n",
    "\n",
    "To install the required libraries for this tutorial, run the following command in your Conda terminal:\n",
    "\n",
    "```bash\n",
    "conda install pandas seaborn plotly jupyterlab -c conda-forge\n"
   ]
  },
  {
   "cell_type": "code",
   "execution_count": 1,
   "metadata": {},
   "outputs": [],
   "source": [
    "# Import necessary libraries\n",
    "import pandas as pd\n",
    "import seaborn as sns\n",
    "import plotly.express as px"
   ]
  },
  {
   "cell_type": "markdown",
   "metadata": {},
   "source": [
    "## Loading Data\n",
    "\n",
    "The data contains daily recordings of average temperature, vapor pressure, wind speed, and net radiation from a weather station.\n"
   ]
  },
  {
   "cell_type": "code",
   "execution_count": 15,
   "metadata": {},
   "outputs": [
    {
     "data": {
      "text/html": [
       "<div>\n",
       "<style scoped>\n",
       "    .dataframe tbody tr th:only-of-type {\n",
       "        vertical-align: middle;\n",
       "    }\n",
       "\n",
       "    .dataframe tbody tr th {\n",
       "        vertical-align: top;\n",
       "    }\n",
       "\n",
       "    .dataframe thead th {\n",
       "        text-align: right;\n",
       "    }\n",
       "</style>\n",
       "<table border=\"1\" class=\"dataframe\">\n",
       "  <thead>\n",
       "    <tr style=\"text-align: right;\">\n",
       "      <th></th>\n",
       "      <th>Station</th>\n",
       "      <th>Date</th>\n",
       "      <th>Avg Temp (deg C)</th>\n",
       "      <th>Vapor Pressure (Pa)</th>\n",
       "      <th>Wind Speed (m/s)</th>\n",
       "      <th>Net Radiation (Wm-2)</th>\n",
       "    </tr>\n",
       "  </thead>\n",
       "  <tbody>\n",
       "    <tr>\n",
       "      <th>360</th>\n",
       "      <td>ftc01</td>\n",
       "      <td>12/27/2023</td>\n",
       "      <td>2.86</td>\n",
       "      <td>263</td>\n",
       "      <td>3.386574</td>\n",
       "      <td>81.63</td>\n",
       "    </tr>\n",
       "    <tr>\n",
       "      <th>361</th>\n",
       "      <td>ftc01</td>\n",
       "      <td>12/28/2023</td>\n",
       "      <td>-1.82</td>\n",
       "      <td>253</td>\n",
       "      <td>0.414931</td>\n",
       "      <td>106.71</td>\n",
       "    </tr>\n",
       "    <tr>\n",
       "      <th>362</th>\n",
       "      <td>ftc01</td>\n",
       "      <td>12/29/2023</td>\n",
       "      <td>2.08</td>\n",
       "      <td>234</td>\n",
       "      <td>0.960648</td>\n",
       "      <td>107.18</td>\n",
       "    </tr>\n",
       "    <tr>\n",
       "      <th>363</th>\n",
       "      <td>ftc01</td>\n",
       "      <td>12/30/2023</td>\n",
       "      <td>2.22</td>\n",
       "      <td>278</td>\n",
       "      <td>0.566319</td>\n",
       "      <td>106.02</td>\n",
       "    </tr>\n",
       "    <tr>\n",
       "      <th>364</th>\n",
       "      <td>ftc01</td>\n",
       "      <td>12/31/2023</td>\n",
       "      <td>-2.19</td>\n",
       "      <td>345</td>\n",
       "      <td>0.263657</td>\n",
       "      <td>73.80</td>\n",
       "    </tr>\n",
       "  </tbody>\n",
       "</table>\n",
       "</div>"
      ],
      "text/plain": [
       "    Station        Date  Avg Temp (deg C)  Vapor Pressure (Pa)  \\\n",
       "360   ftc01  12/27/2023              2.86                  263   \n",
       "361   ftc01  12/28/2023             -1.82                  253   \n",
       "362   ftc01  12/29/2023              2.08                  234   \n",
       "363   ftc01  12/30/2023              2.22                  278   \n",
       "364   ftc01  12/31/2023             -2.19                  345   \n",
       "\n",
       "     Wind Speed (m/s)  Net Radiation (Wm-2)  \n",
       "360          3.386574                 81.63  \n",
       "361          0.414931                106.71  \n",
       "362          0.960648                107.18  \n",
       "363          0.566319                106.02  \n",
       "364          0.263657                 73.80  "
      ]
     },
     "execution_count": 15,
     "metadata": {},
     "output_type": "execute_result"
    }
   ],
   "source": [
    "# Load the data from a CSV file\n",
    "data_path = r\"Data\\HW3_ET_data.csv\"\n",
    "df = pd.read_csv(data_path)\n",
    "\n",
    "# Display the first few rows of the dataframe\n",
    "df.head()"
   ]
  },
  {
   "cell_type": "code",
   "execution_count": null,
   "metadata": {},
   "outputs": [],
   "source": [
    "#Display the last few rows of the dataframe\n",
    "df.tail()"
   ]
  },
  {
   "cell_type": "markdown",
   "metadata": {},
   "source": [
    "## Exploring the DataFrame\n"
   ]
  },
  {
   "cell_type": "code",
   "execution_count": 20,
   "metadata": {},
   "outputs": [
    {
     "name": "stdout",
     "output_type": "stream",
     "text": [
      "<class 'pandas.core.frame.DataFrame'>\n",
      "RangeIndex: 365 entries, 0 to 364\n",
      "Data columns (total 6 columns):\n",
      " #   Column                Non-Null Count  Dtype  \n",
      "---  ------                --------------  -----  \n",
      " 0   Station               365 non-null    object \n",
      " 1   Date                  365 non-null    object \n",
      " 2   Avg Temp (deg C)      365 non-null    float64\n",
      " 3   Vapor Pressure (Pa)   365 non-null    int64  \n",
      " 4   Wind Speed (m/s)      365 non-null    float64\n",
      " 5   Net Radiation (Wm-2)  365 non-null    float64\n",
      "dtypes: float64(3), int64(1), object(2)\n",
      "memory usage: 17.2+ KB\n"
     ]
    },
    {
     "data": {
      "text/html": [
       "<div>\n",
       "<style scoped>\n",
       "    .dataframe tbody tr th:only-of-type {\n",
       "        vertical-align: middle;\n",
       "    }\n",
       "\n",
       "    .dataframe tbody tr th {\n",
       "        vertical-align: top;\n",
       "    }\n",
       "\n",
       "    .dataframe thead th {\n",
       "        text-align: right;\n",
       "    }\n",
       "</style>\n",
       "<table border=\"1\" class=\"dataframe\">\n",
       "  <thead>\n",
       "    <tr style=\"text-align: right;\">\n",
       "      <th></th>\n",
       "      <th>Avg Temp (deg C)</th>\n",
       "      <th>Vapor Pressure (Pa)</th>\n",
       "      <th>Wind Speed (m/s)</th>\n",
       "      <th>Net Radiation (Wm-2)</th>\n",
       "    </tr>\n",
       "  </thead>\n",
       "  <tbody>\n",
       "    <tr>\n",
       "      <th>count</th>\n",
       "      <td>365.000000</td>\n",
       "      <td>365.000000</td>\n",
       "      <td>365.000000</td>\n",
       "      <td>365.000000</td>\n",
       "    </tr>\n",
       "    <tr>\n",
       "      <th>mean</th>\n",
       "      <td>9.079096</td>\n",
       "      <td>724.498630</td>\n",
       "      <td>1.292361</td>\n",
       "      <td>177.595205</td>\n",
       "    </tr>\n",
       "    <tr>\n",
       "      <th>std</th>\n",
       "      <td>9.572409</td>\n",
       "      <td>440.668253</td>\n",
       "      <td>1.083164</td>\n",
       "      <td>80.986650</td>\n",
       "    </tr>\n",
       "    <tr>\n",
       "      <th>min</th>\n",
       "      <td>-20.520000</td>\n",
       "      <td>93.000000</td>\n",
       "      <td>0.160185</td>\n",
       "      <td>9.510000</td>\n",
       "    </tr>\n",
       "    <tr>\n",
       "      <th>25%</th>\n",
       "      <td>1.090000</td>\n",
       "      <td>347.000000</td>\n",
       "      <td>0.694329</td>\n",
       "      <td>109.030000</td>\n",
       "    </tr>\n",
       "    <tr>\n",
       "      <th>50%</th>\n",
       "      <td>10.120000</td>\n",
       "      <td>539.000000</td>\n",
       "      <td>0.967593</td>\n",
       "      <td>176.270000</td>\n",
       "    </tr>\n",
       "    <tr>\n",
       "      <th>75%</th>\n",
       "      <td>16.930000</td>\n",
       "      <td>1139.000000</td>\n",
       "      <td>1.412037</td>\n",
       "      <td>245.600000</td>\n",
       "    </tr>\n",
       "    <tr>\n",
       "      <th>max</th>\n",
       "      <td>26.220000</td>\n",
       "      <td>1829.000000</td>\n",
       "      <td>9.722222</td>\n",
       "      <td>358.800000</td>\n",
       "    </tr>\n",
       "  </tbody>\n",
       "</table>\n",
       "</div>"
      ],
      "text/plain": [
       "       Avg Temp (deg C)  Vapor Pressure (Pa)  Wind Speed (m/s)  \\\n",
       "count        365.000000           365.000000        365.000000   \n",
       "mean           9.079096           724.498630          1.292361   \n",
       "std            9.572409           440.668253          1.083164   \n",
       "min          -20.520000            93.000000          0.160185   \n",
       "25%            1.090000           347.000000          0.694329   \n",
       "50%           10.120000           539.000000          0.967593   \n",
       "75%           16.930000          1139.000000          1.412037   \n",
       "max           26.220000          1829.000000          9.722222   \n",
       "\n",
       "       Net Radiation (Wm-2)  \n",
       "count            365.000000  \n",
       "mean             177.595205  \n",
       "std               80.986650  \n",
       "min                9.510000  \n",
       "25%              109.030000  \n",
       "50%              176.270000  \n",
       "75%              245.600000  \n",
       "max              358.800000  "
      ]
     },
     "execution_count": 20,
     "metadata": {},
     "output_type": "execute_result"
    }
   ],
   "source": [
    "# Basic info about the dataset\n",
    "df.info()\n",
    "\n",
    "# Statistical summary of the dataset\n",
    "df.describe()"
   ]
  },
  {
   "cell_type": "code",
   "execution_count": 22,
   "metadata": {},
   "outputs": [
    {
     "data": {
      "text/plain": [
       "Station                 0\n",
       "Date                    0\n",
       "Avg Temp (deg C)        0\n",
       "Vapor Pressure (Pa)     0\n",
       "Wind Speed (m/s)        0\n",
       "Net Radiation (Wm-2)    0\n",
       "dtype: int64"
      ]
     },
     "execution_count": 22,
     "metadata": {},
     "output_type": "execute_result"
    }
   ],
   "source": [
    "# Check for missing values\n",
    "df.isnull().sum()"
   ]
  },
  {
   "cell_type": "code",
   "execution_count": 21,
   "metadata": {},
   "outputs": [
    {
     "data": {
      "text/html": [
       "<div>\n",
       "<style scoped>\n",
       "    .dataframe tbody tr th:only-of-type {\n",
       "        vertical-align: middle;\n",
       "    }\n",
       "\n",
       "    .dataframe tbody tr th {\n",
       "        vertical-align: top;\n",
       "    }\n",
       "\n",
       "    .dataframe thead th {\n",
       "        text-align: right;\n",
       "    }\n",
       "</style>\n",
       "<table border=\"1\" class=\"dataframe\">\n",
       "  <thead>\n",
       "    <tr style=\"text-align: right;\">\n",
       "      <th></th>\n",
       "      <th>Station</th>\n",
       "      <th>Date</th>\n",
       "      <th>Avg Temp (deg C)</th>\n",
       "      <th>Vapor Pressure (Pa)</th>\n",
       "      <th>Wind Speed (m/s)</th>\n",
       "      <th>Net Radiation (Wm-2)</th>\n",
       "    </tr>\n",
       "  </thead>\n",
       "  <tbody>\n",
       "    <tr>\n",
       "      <th>177</th>\n",
       "      <td>ftc01</td>\n",
       "      <td>6/27/2023</td>\n",
       "      <td>22.89</td>\n",
       "      <td>1118</td>\n",
       "      <td>2.324074</td>\n",
       "      <td>350.12</td>\n",
       "    </tr>\n",
       "    <tr>\n",
       "      <th>178</th>\n",
       "      <td>ftc01</td>\n",
       "      <td>6/28/2023</td>\n",
       "      <td>21.02</td>\n",
       "      <td>1479</td>\n",
       "      <td>0.976852</td>\n",
       "      <td>320.83</td>\n",
       "    </tr>\n",
       "    <tr>\n",
       "      <th>179</th>\n",
       "      <td>ftc01</td>\n",
       "      <td>6/29/2023</td>\n",
       "      <td>19.91</td>\n",
       "      <td>1414</td>\n",
       "      <td>1.692130</td>\n",
       "      <td>312.85</td>\n",
       "    </tr>\n",
       "    <tr>\n",
       "      <th>180</th>\n",
       "      <td>ftc01</td>\n",
       "      <td>6/30/2023</td>\n",
       "      <td>14.52</td>\n",
       "      <td>1325</td>\n",
       "      <td>0.623727</td>\n",
       "      <td>140.86</td>\n",
       "    </tr>\n",
       "    <tr>\n",
       "      <th>181</th>\n",
       "      <td>ftc01</td>\n",
       "      <td>7/1/2023</td>\n",
       "      <td>18.80</td>\n",
       "      <td>1192</td>\n",
       "      <td>1.098380</td>\n",
       "      <td>290.05</td>\n",
       "    </tr>\n",
       "    <tr>\n",
       "      <th>182</th>\n",
       "      <td>ftc01</td>\n",
       "      <td>7/2/2023</td>\n",
       "      <td>21.76</td>\n",
       "      <td>1219</td>\n",
       "      <td>0.731944</td>\n",
       "      <td>293.75</td>\n",
       "    </tr>\n",
       "    <tr>\n",
       "      <th>183</th>\n",
       "      <td>ftc01</td>\n",
       "      <td>7/3/2023</td>\n",
       "      <td>21.07</td>\n",
       "      <td>1127</td>\n",
       "      <td>0.704977</td>\n",
       "      <td>265.39</td>\n",
       "    </tr>\n",
       "    <tr>\n",
       "      <th>184</th>\n",
       "      <td>ftc01</td>\n",
       "      <td>7/4/2023</td>\n",
       "      <td>18.23</td>\n",
       "      <td>1326</td>\n",
       "      <td>1.030093</td>\n",
       "      <td>197.11</td>\n",
       "    </tr>\n",
       "    <tr>\n",
       "      <th>185</th>\n",
       "      <td>ftc01</td>\n",
       "      <td>7/5/2023</td>\n",
       "      <td>12.95</td>\n",
       "      <td>1418</td>\n",
       "      <td>0.488542</td>\n",
       "      <td>58.68</td>\n",
       "    </tr>\n",
       "    <tr>\n",
       "      <th>186</th>\n",
       "      <td>ftc01</td>\n",
       "      <td>7/6/2023</td>\n",
       "      <td>16.17</td>\n",
       "      <td>1549</td>\n",
       "      <td>0.653009</td>\n",
       "      <td>146.30</td>\n",
       "    </tr>\n",
       "  </tbody>\n",
       "</table>\n",
       "</div>"
      ],
      "text/plain": [
       "    Station       Date  Avg Temp (deg C)  Vapor Pressure (Pa)  \\\n",
       "177   ftc01  6/27/2023             22.89                 1118   \n",
       "178   ftc01  6/28/2023             21.02                 1479   \n",
       "179   ftc01  6/29/2023             19.91                 1414   \n",
       "180   ftc01  6/30/2023             14.52                 1325   \n",
       "181   ftc01   7/1/2023             18.80                 1192   \n",
       "182   ftc01   7/2/2023             21.76                 1219   \n",
       "183   ftc01   7/3/2023             21.07                 1127   \n",
       "184   ftc01   7/4/2023             18.23                 1326   \n",
       "185   ftc01   7/5/2023             12.95                 1418   \n",
       "186   ftc01   7/6/2023             16.17                 1549   \n",
       "\n",
       "     Wind Speed (m/s)  Net Radiation (Wm-2)  \n",
       "177          2.324074                350.12  \n",
       "178          0.976852                320.83  \n",
       "179          1.692130                312.85  \n",
       "180          0.623727                140.86  \n",
       "181          1.098380                290.05  \n",
       "182          0.731944                293.75  \n",
       "183          0.704977                265.39  \n",
       "184          1.030093                197.11  \n",
       "185          0.488542                 58.68  \n",
       "186          0.653009                146.30  "
      ]
     },
     "execution_count": 21,
     "metadata": {},
     "output_type": "execute_result"
    }
   ],
   "source": [
    "# Displaying middle rows of the DataFrame\n",
    "middle_index = len(df) // 2\n",
    "df_middle = df[middle_index - 5:middle_index + 5]\n",
    "df_middle"
   ]
  },
  {
   "cell_type": "code",
   "execution_count": null,
   "metadata": {},
   "outputs": [],
   "source": [
    "#show only temperature and wind speed columns\n",
    "df[['Avg Temp (deg C)', 'Wind Speed (m/s)']]"
   ]
  },
  {
   "cell_type": "markdown",
   "metadata": {},
   "source": [
    "## Filtering the DataFrame to show only days where the wind speed was above average.\n"
   ]
  },
  {
   "cell_type": "code",
   "execution_count": 9,
   "metadata": {},
   "outputs": [
    {
     "data": {
      "text/html": [
       "<div>\n",
       "<style scoped>\n",
       "    .dataframe tbody tr th:only-of-type {\n",
       "        vertical-align: middle;\n",
       "    }\n",
       "\n",
       "    .dataframe tbody tr th {\n",
       "        vertical-align: top;\n",
       "    }\n",
       "\n",
       "    .dataframe thead th {\n",
       "        text-align: right;\n",
       "    }\n",
       "</style>\n",
       "<table border=\"1\" class=\"dataframe\">\n",
       "  <thead>\n",
       "    <tr style=\"text-align: right;\">\n",
       "      <th></th>\n",
       "      <th>Station</th>\n",
       "      <th>Date</th>\n",
       "      <th>Avg Temp (deg C)</th>\n",
       "      <th>Vapor Pressure (Pa)</th>\n",
       "      <th>Wind Speed (m/s)</th>\n",
       "      <th>Net Radiation (Wm-2)</th>\n",
       "    </tr>\n",
       "  </thead>\n",
       "  <tbody>\n",
       "    <tr>\n",
       "      <th>9</th>\n",
       "      <td>ftc01</td>\n",
       "      <td>1/10/2023</td>\n",
       "      <td>3.84</td>\n",
       "      <td>433</td>\n",
       "      <td>1.332176</td>\n",
       "      <td>109.72</td>\n",
       "    </tr>\n",
       "    <tr>\n",
       "      <th>17</th>\n",
       "      <td>ftc01</td>\n",
       "      <td>1/18/2023</td>\n",
       "      <td>-2.90</td>\n",
       "      <td>392</td>\n",
       "      <td>2.652778</td>\n",
       "      <td>51.78</td>\n",
       "    </tr>\n",
       "    <tr>\n",
       "      <th>20</th>\n",
       "      <td>ftc01</td>\n",
       "      <td>1/21/2023</td>\n",
       "      <td>-3.22</td>\n",
       "      <td>301</td>\n",
       "      <td>1.612269</td>\n",
       "      <td>79.91</td>\n",
       "    </tr>\n",
       "    <tr>\n",
       "      <th>24</th>\n",
       "      <td>ftc01</td>\n",
       "      <td>1/25/2023</td>\n",
       "      <td>-2.41</td>\n",
       "      <td>231</td>\n",
       "      <td>5.622685</td>\n",
       "      <td>120.60</td>\n",
       "    </tr>\n",
       "    <tr>\n",
       "      <th>25</th>\n",
       "      <td>ftc01</td>\n",
       "      <td>1/26/2023</td>\n",
       "      <td>-1.02</td>\n",
       "      <td>231</td>\n",
       "      <td>2.409722</td>\n",
       "      <td>115.28</td>\n",
       "    </tr>\n",
       "    <tr>\n",
       "      <th>...</th>\n",
       "      <td>...</td>\n",
       "      <td>...</td>\n",
       "      <td>...</td>\n",
       "      <td>...</td>\n",
       "      <td>...</td>\n",
       "      <td>...</td>\n",
       "    </tr>\n",
       "    <tr>\n",
       "      <th>356</th>\n",
       "      <td>ftc01</td>\n",
       "      <td>12/23/2023</td>\n",
       "      <td>4.99</td>\n",
       "      <td>514</td>\n",
       "      <td>1.297454</td>\n",
       "      <td>53.33</td>\n",
       "    </tr>\n",
       "    <tr>\n",
       "      <th>357</th>\n",
       "      <td>ftc01</td>\n",
       "      <td>12/24/2023</td>\n",
       "      <td>-2.83</td>\n",
       "      <td>295</td>\n",
       "      <td>3.415509</td>\n",
       "      <td>94.79</td>\n",
       "    </tr>\n",
       "    <tr>\n",
       "      <th>358</th>\n",
       "      <td>ftc01</td>\n",
       "      <td>12/25/2023</td>\n",
       "      <td>-4.82</td>\n",
       "      <td>178</td>\n",
       "      <td>2.940972</td>\n",
       "      <td>92.71</td>\n",
       "    </tr>\n",
       "    <tr>\n",
       "      <th>359</th>\n",
       "      <td>ftc01</td>\n",
       "      <td>12/26/2023</td>\n",
       "      <td>2.05</td>\n",
       "      <td>271</td>\n",
       "      <td>9.722222</td>\n",
       "      <td>50.39</td>\n",
       "    </tr>\n",
       "    <tr>\n",
       "      <th>360</th>\n",
       "      <td>ftc01</td>\n",
       "      <td>12/27/2023</td>\n",
       "      <td>2.86</td>\n",
       "      <td>263</td>\n",
       "      <td>3.386574</td>\n",
       "      <td>81.63</td>\n",
       "    </tr>\n",
       "  </tbody>\n",
       "</table>\n",
       "<p>110 rows × 6 columns</p>\n",
       "</div>"
      ],
      "text/plain": [
       "    Station        Date  Avg Temp (deg C)  Vapor Pressure (Pa)  \\\n",
       "9     ftc01   1/10/2023              3.84                  433   \n",
       "17    ftc01   1/18/2023             -2.90                  392   \n",
       "20    ftc01   1/21/2023             -3.22                  301   \n",
       "24    ftc01   1/25/2023             -2.41                  231   \n",
       "25    ftc01   1/26/2023             -1.02                  231   \n",
       "..      ...         ...               ...                  ...   \n",
       "356   ftc01  12/23/2023              4.99                  514   \n",
       "357   ftc01  12/24/2023             -2.83                  295   \n",
       "358   ftc01  12/25/2023             -4.82                  178   \n",
       "359   ftc01  12/26/2023              2.05                  271   \n",
       "360   ftc01  12/27/2023              2.86                  263   \n",
       "\n",
       "     Wind Speed (m/s)  Net Radiation (Wm-2)  \n",
       "9            1.332176                109.72  \n",
       "17           2.652778                 51.78  \n",
       "20           1.612269                 79.91  \n",
       "24           5.622685                120.60  \n",
       "25           2.409722                115.28  \n",
       "..                ...                   ...  \n",
       "356          1.297454                 53.33  \n",
       "357          3.415509                 94.79  \n",
       "358          2.940972                 92.71  \n",
       "359          9.722222                 50.39  \n",
       "360          3.386574                 81.63  \n",
       "\n",
       "[110 rows x 6 columns]"
      ]
     },
     "execution_count": 9,
     "metadata": {},
     "output_type": "execute_result"
    }
   ],
   "source": [
    "# Filtering DataFrame for days with above-average wind speeds\n",
    "average_wind_speed = df['Wind Speed (m/s)'].mean()\n",
    "df_high_wind = df[df['Wind Speed (m/s)'] > average_wind_speed]\n",
    "df_high_wind\n",
    "#highlight the days in df_high_wind with above-average Avg Temp (deg C)\n"
   ]
  },
  {
   "cell_type": "markdown",
   "metadata": {},
   "source": [
    "## Fancy DataFrame Display\n"
   ]
  },
  {
   "cell_type": "code",
   "execution_count": 32,
   "metadata": {},
   "outputs": [
    {
     "data": {
      "text/html": [
       "<style type=\"text/css\">\n",
       "#T_2d9e7_row5_col2 {\n",
       "  background-color: red;\n",
       "}\n",
       "</style>\n",
       "<table id=\"T_2d9e7\">\n",
       "  <thead>\n",
       "    <tr>\n",
       "      <th class=\"blank level0\" >&nbsp;</th>\n",
       "      <th id=\"T_2d9e7_level0_col0\" class=\"col_heading level0 col0\" >Station</th>\n",
       "      <th id=\"T_2d9e7_level0_col1\" class=\"col_heading level0 col1\" >Date</th>\n",
       "      <th id=\"T_2d9e7_level0_col2\" class=\"col_heading level0 col2\" >Avg Temp (deg C)</th>\n",
       "      <th id=\"T_2d9e7_level0_col3\" class=\"col_heading level0 col3\" >Vapor Pressure (Pa)</th>\n",
       "      <th id=\"T_2d9e7_level0_col4\" class=\"col_heading level0 col4\" >Wind Speed (m/s)</th>\n",
       "      <th id=\"T_2d9e7_level0_col5\" class=\"col_heading level0 col5\" >Net Radiation (Wm-2)</th>\n",
       "      <th id=\"T_2d9e7_level0_col6\" class=\"col_heading level0 col6\" >Wind Speed Category</th>\n",
       "    </tr>\n",
       "  </thead>\n",
       "  <tbody>\n",
       "    <tr>\n",
       "      <th id=\"T_2d9e7_level0_row0\" class=\"row_heading level0 row0\" >64</th>\n",
       "      <td id=\"T_2d9e7_row0_col0\" class=\"data row0 col0\" >ftc01</td>\n",
       "      <td id=\"T_2d9e7_row0_col1\" class=\"data row0 col1\" >3/6/2023</td>\n",
       "      <td id=\"T_2d9e7_row0_col2\" class=\"data row0 col2\" >-0.840000</td>\n",
       "      <td id=\"T_2d9e7_row0_col3\" class=\"data row0 col3\" >359</td>\n",
       "      <td id=\"T_2d9e7_row0_col4\" class=\"data row0 col4\" >1.827546</td>\n",
       "      <td id=\"T_2d9e7_row0_col5\" class=\"data row0 col5\" >204.510000</td>\n",
       "      <td id=\"T_2d9e7_row0_col6\" class=\"data row0 col6\" >High</td>\n",
       "    </tr>\n",
       "    <tr>\n",
       "      <th id=\"T_2d9e7_level0_row1\" class=\"row_heading level0 row1\" >66</th>\n",
       "      <td id=\"T_2d9e7_row1_col0\" class=\"data row1 col0\" >ftc01</td>\n",
       "      <td id=\"T_2d9e7_row1_col1\" class=\"data row1 col1\" >3/8/2023</td>\n",
       "      <td id=\"T_2d9e7_row1_col2\" class=\"data row1 col2\" >-1.360000</td>\n",
       "      <td id=\"T_2d9e7_row1_col3\" class=\"data row1 col3\" >453</td>\n",
       "      <td id=\"T_2d9e7_row1_col4\" class=\"data row1 col4\" >1.653935</td>\n",
       "      <td id=\"T_2d9e7_row1_col5\" class=\"data row1 col5\" >42.820000</td>\n",
       "      <td id=\"T_2d9e7_row1_col6\" class=\"data row1 col6\" >High</td>\n",
       "    </tr>\n",
       "    <tr>\n",
       "      <th id=\"T_2d9e7_level0_row2\" class=\"row_heading level0 row2\" >67</th>\n",
       "      <td id=\"T_2d9e7_row2_col0\" class=\"data row2 col0\" >ftc01</td>\n",
       "      <td id=\"T_2d9e7_row2_col1\" class=\"data row2 col1\" >3/9/2023</td>\n",
       "      <td id=\"T_2d9e7_row2_col2\" class=\"data row2 col2\" >2.360000</td>\n",
       "      <td id=\"T_2d9e7_row2_col3\" class=\"data row2 col3\" >373</td>\n",
       "      <td id=\"T_2d9e7_row2_col4\" class=\"data row2 col4\" >2.304398</td>\n",
       "      <td id=\"T_2d9e7_row2_col5\" class=\"data row2 col5\" >223.150000</td>\n",
       "      <td id=\"T_2d9e7_row2_col6\" class=\"data row2 col6\" >High</td>\n",
       "    </tr>\n",
       "    <tr>\n",
       "      <th id=\"T_2d9e7_level0_row3\" class=\"row_heading level0 row3\" >69</th>\n",
       "      <td id=\"T_2d9e7_row3_col0\" class=\"data row3 col0\" >ftc01</td>\n",
       "      <td id=\"T_2d9e7_row3_col1\" class=\"data row3 col1\" >3/11/2023</td>\n",
       "      <td id=\"T_2d9e7_row3_col2\" class=\"data row3 col2\" >6.140000</td>\n",
       "      <td id=\"T_2d9e7_row3_col3\" class=\"data row3 col3\" >299</td>\n",
       "      <td id=\"T_2d9e7_row3_col4\" class=\"data row3 col4\" >4.474537</td>\n",
       "      <td id=\"T_2d9e7_row3_col5\" class=\"data row3 col5\" >218.980000</td>\n",
       "      <td id=\"T_2d9e7_row3_col6\" class=\"data row3 col6\" >High</td>\n",
       "    </tr>\n",
       "    <tr>\n",
       "      <th id=\"T_2d9e7_level0_row4\" class=\"row_heading level0 row4\" >70</th>\n",
       "      <td id=\"T_2d9e7_row4_col0\" class=\"data row4 col0\" >ftc01</td>\n",
       "      <td id=\"T_2d9e7_row4_col1\" class=\"data row4 col1\" >3/12/2023</td>\n",
       "      <td id=\"T_2d9e7_row4_col2\" class=\"data row4 col2\" >-0.500000</td>\n",
       "      <td id=\"T_2d9e7_row4_col3\" class=\"data row4 col3\" >344</td>\n",
       "      <td id=\"T_2d9e7_row4_col4\" class=\"data row4 col4\" >1.832176</td>\n",
       "      <td id=\"T_2d9e7_row4_col5\" class=\"data row4 col5\" >186.920000</td>\n",
       "      <td id=\"T_2d9e7_row4_col6\" class=\"data row4 col6\" >High</td>\n",
       "    </tr>\n",
       "    <tr>\n",
       "      <th id=\"T_2d9e7_level0_row5\" class=\"row_heading level0 row5\" >73</th>\n",
       "      <td id=\"T_2d9e7_row5_col0\" class=\"data row5 col0\" >ftc01</td>\n",
       "      <td id=\"T_2d9e7_row5_col1\" class=\"data row5 col1\" >3/15/2023</td>\n",
       "      <td id=\"T_2d9e7_row5_col2\" class=\"data row5 col2\" >9.600000</td>\n",
       "      <td id=\"T_2d9e7_row5_col3\" class=\"data row5 col3\" >488</td>\n",
       "      <td id=\"T_2d9e7_row5_col4\" class=\"data row5 col4\" >1.768519</td>\n",
       "      <td id=\"T_2d9e7_row5_col5\" class=\"data row5 col5\" >200.690000</td>\n",
       "      <td id=\"T_2d9e7_row5_col6\" class=\"data row5 col6\" >High</td>\n",
       "    </tr>\n",
       "    <tr>\n",
       "      <th id=\"T_2d9e7_level0_row6\" class=\"row_heading level0 row6\" >74</th>\n",
       "      <td id=\"T_2d9e7_row6_col0\" class=\"data row6 col0\" >ftc01</td>\n",
       "      <td id=\"T_2d9e7_row6_col1\" class=\"data row6 col1\" >3/16/2023</td>\n",
       "      <td id=\"T_2d9e7_row6_col2\" class=\"data row6 col2\" >0.280000</td>\n",
       "      <td id=\"T_2d9e7_row6_col3\" class=\"data row6 col3\" >256</td>\n",
       "      <td id=\"T_2d9e7_row6_col4\" class=\"data row6 col4\" >5.284722</td>\n",
       "      <td id=\"T_2d9e7_row6_col5\" class=\"data row6 col5\" >227.660000</td>\n",
       "      <td id=\"T_2d9e7_row6_col6\" class=\"data row6 col6\" >High</td>\n",
       "    </tr>\n",
       "    <tr>\n",
       "      <th id=\"T_2d9e7_level0_row7\" class=\"row_heading level0 row7\" >75</th>\n",
       "      <td id=\"T_2d9e7_row7_col0\" class=\"data row7 col0\" >ftc01</td>\n",
       "      <td id=\"T_2d9e7_row7_col1\" class=\"data row7 col1\" >3/17/2023</td>\n",
       "      <td id=\"T_2d9e7_row7_col2\" class=\"data row7 col2\" >-1.590000</td>\n",
       "      <td id=\"T_2d9e7_row7_col3\" class=\"data row7 col3\" >172</td>\n",
       "      <td id=\"T_2d9e7_row7_col4\" class=\"data row7 col4\" >2.086806</td>\n",
       "      <td id=\"T_2d9e7_row7_col5\" class=\"data row7 col5\" >245.600000</td>\n",
       "      <td id=\"T_2d9e7_row7_col6\" class=\"data row7 col6\" >High</td>\n",
       "    </tr>\n",
       "    <tr>\n",
       "      <th id=\"T_2d9e7_level0_row8\" class=\"row_heading level0 row8\" >76</th>\n",
       "      <td id=\"T_2d9e7_row8_col0\" class=\"data row8 col0\" >ftc01</td>\n",
       "      <td id=\"T_2d9e7_row8_col1\" class=\"data row8 col1\" >3/18/2023</td>\n",
       "      <td id=\"T_2d9e7_row8_col2\" class=\"data row8 col2\" >-1.780000</td>\n",
       "      <td id=\"T_2d9e7_row8_col3\" class=\"data row8 col3\" >160</td>\n",
       "      <td id=\"T_2d9e7_row8_col4\" class=\"data row8 col4\" >1.674769</td>\n",
       "      <td id=\"T_2d9e7_row8_col5\" class=\"data row8 col5\" >251.390000</td>\n",
       "      <td id=\"T_2d9e7_row8_col6\" class=\"data row8 col6\" >High</td>\n",
       "    </tr>\n",
       "    <tr>\n",
       "      <th id=\"T_2d9e7_level0_row9\" class=\"row_heading level0 row9\" >78</th>\n",
       "      <td id=\"T_2d9e7_row9_col0\" class=\"data row9 col0\" >ftc01</td>\n",
       "      <td id=\"T_2d9e7_row9_col1\" class=\"data row9 col1\" >3/20/2023</td>\n",
       "      <td id=\"T_2d9e7_row9_col2\" class=\"data row9 col2\" >4.020000</td>\n",
       "      <td id=\"T_2d9e7_row9_col3\" class=\"data row9 col3\" >383</td>\n",
       "      <td id=\"T_2d9e7_row9_col4\" class=\"data row9 col4\" >1.688657</td>\n",
       "      <td id=\"T_2d9e7_row9_col5\" class=\"data row9 col5\" >150.000000</td>\n",
       "      <td id=\"T_2d9e7_row9_col6\" class=\"data row9 col6\" >High</td>\n",
       "    </tr>\n",
       "  </tbody>\n",
       "</table>\n"
      ],
      "text/plain": [
       "<pandas.io.formats.style.Styler at 0x1d1b38482d0>"
      ]
     },
     "execution_count": 32,
     "metadata": {},
     "output_type": "execute_result"
    }
   ],
   "source": [
    "# Calculate the average wind speed\n",
    "average_wind_speed = df['Wind Speed (m/s)'].mean()\n",
    "\n",
    "# Filter DataFrame for days with above-average wind speeds\n",
    "df_high_wind = df[df['Wind Speed (m/s)'] > average_wind_speed]\n",
    "\n",
    "# Calculate the average temperature of the high wind speed days\n",
    "average_temp_high_wind = df_high_wind['Avg Temp (deg C)'].mean()\n",
    "\n",
    "df_high_wind_subset = df_high_wind[20:30]\n",
    "\n",
    "# Highlight the days with above-average temperature in the high wind dataset\n",
    "def highlight_above_average_temp(row, avg_temp):\n",
    "    return ['background-color: red' if val > avg_temp else '' for val in row]\n",
    "\n",
    "# Applying the highlight function to the temperature column\n",
    "styled_df = df_high_wind_subset.style.apply(highlight_above_average_temp, avg_temp=average_temp_high_wind, subset=['Avg Temp (deg C)'])\n",
    "styled_df\n"
   ]
  },
  {
   "cell_type": "code",
   "execution_count": 25,
   "metadata": {},
   "outputs": [
    {
     "data": {
      "text/html": [
       "<style type=\"text/css\">\n",
       "#T_82cb8_row0_col2 {\n",
       "  background-color: #b40426;\n",
       "  color: #f1f1f1;\n",
       "}\n",
       "#T_82cb8_row1_col2 {\n",
       "  background-color: #485fd1;\n",
       "  color: #f1f1f1;\n",
       "}\n",
       "#T_82cb8_row2_col2 {\n",
       "  background-color: #3b4cc0;\n",
       "  color: #f1f1f1;\n",
       "}\n",
       "#T_82cb8_row3_col2 {\n",
       "  background-color: #5e7de7;\n",
       "  color: #f1f1f1;\n",
       "}\n",
       "#T_82cb8_row4_col2 {\n",
       "  background-color: #a2c1ff;\n",
       "  color: #000000;\n",
       "}\n",
       "</style>\n",
       "<table id=\"T_82cb8\">\n",
       "  <thead>\n",
       "    <tr>\n",
       "      <th class=\"blank level0\" >&nbsp;</th>\n",
       "      <th id=\"T_82cb8_level0_col0\" class=\"col_heading level0 col0\" >Station</th>\n",
       "      <th id=\"T_82cb8_level0_col1\" class=\"col_heading level0 col1\" >Date</th>\n",
       "      <th id=\"T_82cb8_level0_col2\" class=\"col_heading level0 col2\" >Avg Temp (deg C)</th>\n",
       "      <th id=\"T_82cb8_level0_col3\" class=\"col_heading level0 col3\" >Vapor Pressure (Pa)</th>\n",
       "      <th id=\"T_82cb8_level0_col4\" class=\"col_heading level0 col4\" >Wind Speed (m/s)</th>\n",
       "      <th id=\"T_82cb8_level0_col5\" class=\"col_heading level0 col5\" >Net Radiation (Wm-2)</th>\n",
       "    </tr>\n",
       "  </thead>\n",
       "  <tbody>\n",
       "    <tr>\n",
       "      <th id=\"T_82cb8_level0_row0\" class=\"row_heading level0 row0\" >9</th>\n",
       "      <td id=\"T_82cb8_row0_col0\" class=\"data row0 col0\" >ftc01</td>\n",
       "      <td id=\"T_82cb8_row0_col1\" class=\"data row0 col1\" >1/10/2023</td>\n",
       "      <td id=\"T_82cb8_row0_col2\" class=\"data row0 col2\" >3.84°C</td>\n",
       "      <td id=\"T_82cb8_row0_col3\" class=\"data row0 col3\" >433.0 Pa</td>\n",
       "      <td id=\"T_82cb8_row0_col4\" class=\"data row0 col4\" >1.33 m/s</td>\n",
       "      <td id=\"T_82cb8_row0_col5\" class=\"data row0 col5\" >109.72 W/m²</td>\n",
       "    </tr>\n",
       "    <tr>\n",
       "      <th id=\"T_82cb8_level0_row1\" class=\"row_heading level0 row1\" >17</th>\n",
       "      <td id=\"T_82cb8_row1_col0\" class=\"data row1 col0\" >ftc01</td>\n",
       "      <td id=\"T_82cb8_row1_col1\" class=\"data row1 col1\" >1/18/2023</td>\n",
       "      <td id=\"T_82cb8_row1_col2\" class=\"data row1 col2\" >-2.90°C</td>\n",
       "      <td id=\"T_82cb8_row1_col3\" class=\"data row1 col3\" >392.0 Pa</td>\n",
       "      <td id=\"T_82cb8_row1_col4\" class=\"data row1 col4\" >2.65 m/s</td>\n",
       "      <td id=\"T_82cb8_row1_col5\" class=\"data row1 col5\" >51.78 W/m²</td>\n",
       "    </tr>\n",
       "    <tr>\n",
       "      <th id=\"T_82cb8_level0_row2\" class=\"row_heading level0 row2\" >20</th>\n",
       "      <td id=\"T_82cb8_row2_col0\" class=\"data row2 col0\" >ftc01</td>\n",
       "      <td id=\"T_82cb8_row2_col1\" class=\"data row2 col1\" >1/21/2023</td>\n",
       "      <td id=\"T_82cb8_row2_col2\" class=\"data row2 col2\" >-3.22°C</td>\n",
       "      <td id=\"T_82cb8_row2_col3\" class=\"data row2 col3\" >301.0 Pa</td>\n",
       "      <td id=\"T_82cb8_row2_col4\" class=\"data row2 col4\" >1.61 m/s</td>\n",
       "      <td id=\"T_82cb8_row2_col5\" class=\"data row2 col5\" >79.91 W/m²</td>\n",
       "    </tr>\n",
       "    <tr>\n",
       "      <th id=\"T_82cb8_level0_row3\" class=\"row_heading level0 row3\" >24</th>\n",
       "      <td id=\"T_82cb8_row3_col0\" class=\"data row3 col0\" >ftc01</td>\n",
       "      <td id=\"T_82cb8_row3_col1\" class=\"data row3 col1\" >1/25/2023</td>\n",
       "      <td id=\"T_82cb8_row3_col2\" class=\"data row3 col2\" >-2.41°C</td>\n",
       "      <td id=\"T_82cb8_row3_col3\" class=\"data row3 col3\" >231.0 Pa</td>\n",
       "      <td id=\"T_82cb8_row3_col4\" class=\"data row3 col4\" >5.62 m/s</td>\n",
       "      <td id=\"T_82cb8_row3_col5\" class=\"data row3 col5\" >120.60 W/m²</td>\n",
       "    </tr>\n",
       "    <tr>\n",
       "      <th id=\"T_82cb8_level0_row4\" class=\"row_heading level0 row4\" >25</th>\n",
       "      <td id=\"T_82cb8_row4_col0\" class=\"data row4 col0\" >ftc01</td>\n",
       "      <td id=\"T_82cb8_row4_col1\" class=\"data row4 col1\" >1/26/2023</td>\n",
       "      <td id=\"T_82cb8_row4_col2\" class=\"data row4 col2\" >-1.02°C</td>\n",
       "      <td id=\"T_82cb8_row4_col3\" class=\"data row4 col3\" >231.0 Pa</td>\n",
       "      <td id=\"T_82cb8_row4_col4\" class=\"data row4 col4\" >2.41 m/s</td>\n",
       "      <td id=\"T_82cb8_row4_col5\" class=\"data row4 col5\" >115.28 W/m²</td>\n",
       "    </tr>\n",
       "  </tbody>\n",
       "</table>\n"
      ],
      "text/plain": [
       "<pandas.io.formats.style.Styler at 0x1d1b358f190>"
      ]
     },
     "execution_count": 25,
     "metadata": {},
     "output_type": "execute_result"
    }
   ],
   "source": [
    "# Styling DataFrame for better readability\n",
    "def style_specific_columns(df):\n",
    "    return df.style.format({\n",
    "        'Avg Temp (deg C)': \"{:.2f}°C\",\n",
    "        'Vapor Pressure (Pa)': \"{:.1f} Pa\",\n",
    "        'Wind Speed (m/s)': \"{:.2f} m/s\",\n",
    "        'Net Radiation (Wm-2)': \"{:.2f} W/m²\"\n",
    "    }).background_gradient(subset=['Avg Temp (deg C)'], cmap='coolwarm')\n",
    "\n",
    "df_styled_high_wind = style_specific_columns(df_high_wind.head())\n",
    "df_styled_high_wind\n"
   ]
  },
  {
   "cell_type": "markdown",
   "metadata": {},
   "source": [
    "## Seaborn: Fancy Scatter Plot\n"
   ]
  },
  {
   "cell_type": "code",
   "execution_count": 4,
   "metadata": {},
   "outputs": [
    {
     "data": {
      "image/png": "[encoded data removed]",
      "text/plain": [
       "<Figure size 1000x600 with 1 Axes>"
      ]
     },
     "metadata": {},
     "output_type": "display_data"
    }
   ],
   "source": [
    "# Scatter plot of average temperature vs. net radiation\n",
    "sns.set_theme(style=\"whitegrid\")\n",
    "scatter = sns.scatterplot(data=df, x='Avg Temp (deg C)', y='Net Radiation (Wm-2)', hue='Wind Speed (m/s)', palette='coolwarm', size='Vapor Pressure (Pa)', sizes=(20, 200))\n",
    "scatter.set_title('Temperature vs. Net Radiation')\n",
    "scatter.figure.set_size_inches(10, 6)\n"
   ]
  },
  {
   "cell_type": "markdown",
   "metadata": {},
   "source": [
    "## Visualizing Correlations Between Weather Variables with a Heatmap\n",
    "\n"
   ]
  },
  {
   "cell_type": "code",
   "execution_count": 16,
   "metadata": {},
   "outputs": [
    {
     "data": {
      "image/png": "[encoded data removed]",
      "text/plain": [
       "<Figure size 1000x800 with 2 Axes>"
      ]
     },
     "metadata": {},
     "output_type": "display_data"
    }
   ],
   "source": [
    "import seaborn as sns\n",
    "import matplotlib.pyplot as plt\n",
    "\n",
    "# Calculate the correlation matrix\n",
    "corr = df[['Avg Temp (deg C)', 'Vapor Pressure (Pa)', 'Wind Speed (m/s)', 'Net Radiation (Wm-2)']].corr()\n",
    "\n",
    "# Set up the matplotlib figure\n",
    "plt.figure(figsize=(10, 8))\n",
    "\n",
    "# Draw the heatmap\n",
    "heatmap = sns.heatmap(corr, annot=True, fmt=\".2f\", cmap='coolwarm', center=0,\n",
    "                      square=True, linewidths=.5, cbar_kws={\"shrink\": .5})\n",
    "\n",
    "# Adding title\n",
    "plt.title('Correlation Matrix of Weather Variables')\n",
    "\n",
    "# Show the plot\n",
    "plt.show()\n"
   ]
  },
  {
   "cell_type": "markdown",
   "metadata": {},
   "source": [
    "## Interactive Data Visualization with Plotly: Compare four Variables at once"
   ]
  },
  {
   "cell_type": "code",
   "execution_count": 5,
   "metadata": {},
   "outputs": [
    {
     "data": {
      "application/vnd.plotly.v1+json": {
       "config": {
        "plotlyServerURL": "https://plot.ly"
       },
       "data": [
        {
         "customdata": [
          [
           "1/1/2023"
          ],
          [
           "1/2/2023"
          ],
          [
           "1/3/2023"
          ],
          [
           "1/4/2023"
          ],
          [
           "1/5/2023"
          ],
          [
           "1/6/2023"
          ],
          [
           "1/7/2023"
          ],
          [
           "1/8/2023"
          ],
          [
           "1/9/2023"
          ],
          [
           "1/10/2023"
          ],
          [
           "1/11/2023"
          ],
          [
           "1/12/2023"
          ],
          [
           "1/13/2023"
          ],
          [
           "1/14/2023"
          ],
          [
           "1/15/2023"
          ],
          [
           "1/16/2023"
          ],
          [
           "1/17/2023"
          ],
          [
           "1/18/2023"
          ],
          [
           "1/19/2023"
          ],
          [
           "1/20/2023"
          ],
          [
           "1/21/2023"
          ],
          [
           "1/22/2023"
          ],
          [
           "1/23/2023"
          ],
          [
           "1/24/2023"
          ],
          [
           "1/25/2023"
          ],
          [
           "1/26/2023"
          ],
          [
           "1/27/2023"
          ],
          [
           "1/28/2023"
          ],
          [
           "1/29/2023"
          ],
          [
           "1/30/2023"
          ],
          [
           "1/31/2023"
          ],
          [
           "2/1/2023"
          ],
          [
           "2/2/2023"
          ],
          [
           "2/3/2023"
          ],
          [
           "2/4/2023"
          ],
          [
           "2/5/2023"
          ],
          [
           "2/6/2023"
          ],
          [
           "2/7/2023"
          ],
          [
           "2/8/2023"
          ],
          [
           "2/9/2023"
          ],
          [
           "2/10/2023"
          ],
          [
           "2/11/2023"
          ],
          [
           "2/12/2023"
          ],
          [
           "2/13/2023"
          ],
          [
           "2/14/2023"
          ],
          [
           "2/15/2023"
          ],
          [
           "2/16/2023"
          ],
          [
           "2/17/2023"
          ],
          [
           "2/18/2023"
          ],
          [
           "2/19/2023"
          ],
          [
           "2/20/2023"
          ],
          [
           "2/21/2023"
          ],
          [
           "2/22/2023"
          ],
          [
           "2/23/2023"
          ],
          [
           "2/24/2023"
          ],
          [
           "2/25/2023"
          ],
          [
           "2/26/2023"
          ],
          [
           "2/27/2023"
          ],
          [
           "2/28/2023"
          ],
          [
           "3/1/2023"
          ],
          [
           "3/2/2023"
          ],
          [
           "3/3/2023"
          ],
          [
           "3/4/2023"
          ],
          [
           "3/5/2023"
          ],
          [
           "3/6/2023"
          ],
          [
           "3/7/2023"
          ],
          [
           "3/8/2023"
          ],
          [
           "3/9/2023"
          ],
          [
           "3/10/2023"
          ],
          [
           "3/11/2023"
          ],
          [
           "3/12/2023"
          ],
          [
           "3/13/2023"
          ],
          [
           "3/14/2023"
          ],
          [
           "3/15/2023"
          ],
          [
           "3/16/2023"
          ],
          [
           "3/17/2023"
          ],
          [
           "3/18/2023"
          ],
          [
           "3/19/2023"
          ],
          [
           "3/20/2023"
          ],
          [
           "3/21/2023"
          ],
          [
           "3/22/2023"
          ],
          [
           "3/23/2023"
          ],
          [
           "3/24/2023"
          ],
          [
           "3/25/2023"
          ],
          [
           "3/26/2023"
          ],
          [
           "3/27/2023"
          ],
          [
           "3/28/2023"
          ],
          [
           "3/29/2023"
          ],
          [
           "3/30/2023"
          ],
          [
           "3/31/2023"
          ],
          [
           "4/1/2023"
          ],
          [
           "4/2/2023"
          ],
          [
           "4/3/2023"
          ],
          [
           "4/4/2023"
          ],
          [
           "4/5/2023"
          ],
          [
           "4/6/2023"
          ],
          [
           "4/7/2023"
          ],
          [
           "4/8/2023"
          ],
          [
           "4/9/2023"
          ],
          [
           "4/10/2023"
          ],
          [
           "4/11/2023"
          ],
          [
           "4/12/2023"
          ],
          [
           "4/13/2023"
          ],
          [
           "4/14/2023"
          ],
          [
           "4/15/2023"
          ],
          [
           "4/16/2023"
          ],
          [
           "4/17/2023"
          ],
          [
           "4/18/2023"
          ],
          [
           "4/19/2023"
          ],
          [
           "4/20/2023"
          ],
          [
           "4/21/2023"
          ],
          [
           "4/22/2023"
          ],
          [
           "4/23/2023"
          ],
          [
           "4/24/2023"
          ],
          [
           "4/25/2023"
          ],
          [
           "4/26/2023"
          ],
          [
           "4/27/2023"
          ],
          [
           "4/28/2023"
          ],
          [
           "4/29/2023"
          ],
          [
           "4/30/2023"
          ],
          [
           "5/1/2023"
          ],
          [
           "5/2/2023"
          ],
          [
           "5/3/2023"
          ],
          [
           "5/4/2023"
          ],
          [
           "5/5/2023"
          ],
          [
           "5/6/2023"
          ],
          [
           "5/7/2023"
          ],
          [
           "5/8/2023"
          ],
          [
           "5/9/2023"
          ],
          [
           "5/10/2023"
          ],
          [
           "5/11/2023"
          ],
          [
           "5/12/2023"
          ],
          [
           "5/13/2023"
          ],
          [
           "5/14/2023"
          ],
          [
           "5/15/2023"
          ],
          [
           "5/16/2023"
          ],
          [
           "5/17/2023"
          ],
          [
           "5/18/2023"
          ],
          [
           "5/19/2023"
          ],
          [
           "5/20/2023"
          ],
          [
           "5/21/2023"
          ],
          [
           "5/22/2023"
          ],
          [
           "5/23/2023"
          ],
          [
           "5/24/2023"
          ],
          [
           "5/25/2023"
          ],
          [
           "5/26/2023"
          ],
          [
           "5/27/2023"
          ],
          [
           "5/28/2023"
          ],
          [
           "5/29/2023"
          ],
          [
           "5/30/2023"
          ],
          [
           "5/31/2023"
          ],
          [
           "6/1/2023"
          ],
          [
           "6/2/2023"
          ],
          [
           "6/3/2023"
          ],
          [
           "6/4/2023"
          ],
          [
           "6/5/2023"
          ],
          [
           "6/6/2023"
          ],
          [
           "6/7/2023"
          ],
          [
           "6/8/2023"
          ],
          [
           "6/9/2023"
          ],
          [
           "6/10/2023"
          ],
          [
           "6/11/2023"
          ],
          [
           "6/12/2023"
          ],
          [
           "6/13/2023"
          ],
          [
           "6/14/2023"
          ],
          [
           "6/15/2023"
          ],
          [
           "6/16/2023"
          ],
          [
           "6/17/2023"
          ],
          [
           "6/18/2023"
          ],
          [
           "6/19/2023"
          ],
          [
           "6/20/2023"
          ],
          [
           "6/21/2023"
          ],
          [
           "6/22/2023"
          ],
          [
           "6/23/2023"
          ],
          [
           "6/24/2023"
          ],
          [
           "6/25/2023"
          ],
          [
           "6/26/2023"
          ],
          [
           "6/27/2023"
          ],
          [
           "6/28/2023"
          ],
          [
           "6/29/2023"
          ],
          [
           "6/30/2023"
          ],
          [
           "7/1/2023"
          ],
          [
           "7/2/2023"
          ],
          [
           "7/3/2023"
          ],
          [
           "7/4/2023"
          ],
          [
           "7/5/2023"
          ],
          [
           "7/6/2023"
          ],
          [
           "7/7/2023"
          ],
          [
           "7/8/2023"
          ],
          [
           "7/9/2023"
          ],
          [
           "7/10/2023"
          ],
          [
           "7/11/2023"
          ],
          [
           "7/12/2023"
          ],
          [
           "7/13/2023"
          ],
          [
           "7/14/2023"
          ],
          [
           "7/15/2023"
          ],
          [
           "7/16/2023"
          ],
          [
           "7/17/2023"
          ],
          [
           "7/18/2023"
          ],
          [
           "7/19/2023"
          ],
          [
           "7/20/2023"
          ],
          [
           "7/21/2023"
          ],
          [
           "7/22/2023"
          ],
          [
           "7/23/2023"
          ],
          [
           "7/24/2023"
          ],
          [
           "7/25/2023"
          ],
          [
           "7/26/2023"
          ],
          [
           "7/27/2023"
          ],
          [
           "7/28/2023"
          ],
          [
           "7/29/2023"
          ],
          [
           "7/30/2023"
          ],
          [
           "7/31/2023"
          ],
          [
           "8/1/2023"
          ],
          [
           "8/2/2023"
          ],
          [
           "8/3/2023"
          ],
          [
           "8/4/2023"
          ],
          [
           "8/5/2023"
          ],
          [
           "8/6/2023"
          ],
          [
           "8/7/2023"
          ],
          [
           "8/8/2023"
          ],
          [
           "8/9/2023"
          ],
          [
           "8/10/2023"
          ],
          [
           "8/11/2023"
          ],
          [
           "8/12/2023"
          ],
          [
           "8/13/2023"
          ],
          [
           "8/14/2023"
          ],
          [
           "8/15/2023"
          ],
          [
           "8/16/2023"
          ],
          [
           "8/17/2023"
          ],
          [
           "8/18/2023"
          ],
          [
           "8/19/2023"
          ],
          [
           "8/20/2023"
          ],
          [
           "8/21/2023"
          ],
          [
           "8/22/2023"
          ],
          [
           "8/23/2023"
          ],
          [
           "8/24/2023"
          ],
          [
           "8/25/2023"
          ],
          [
           "8/26/2023"
          ],
          [
           "8/27/2023"
          ],
          [
           "8/28/2023"
          ],
          [
           "8/29/2023"
          ],
          [
           "8/30/2023"
          ],
          [
           "8/31/2023"
          ],
          [
           "9/1/2023"
          ],
          [
           "9/2/2023"
          ],
          [
           "9/3/2023"
          ],
          [
           "9/4/2023"
          ],
          [
           "9/5/2023"
          ],
          [
           "9/6/2023"
          ],
          [
           "9/7/2023"
          ],
          [
           "9/8/2023"
          ],
          [
           "9/9/2023"
          ],
          [
           "9/10/2023"
          ],
          [
           "9/11/2023"
          ],
          [
           "9/12/2023"
          ],
          [
           "9/13/2023"
          ],
          [
           "9/14/2023"
          ],
          [
           "9/15/2023"
          ],
          [
           "9/16/2023"
          ],
          [
           "9/17/2023"
          ],
          [
           "9/18/2023"
          ],
          [
           "9/19/2023"
          ],
          [
           "9/20/2023"
          ],
          [
           "9/21/2023"
          ],
          [
           "9/22/2023"
          ],
          [
           "9/23/2023"
          ],
          [
           "9/24/2023"
          ],
          [
           "9/25/2023"
          ],
          [
           "9/26/2023"
          ],
          [
           "9/27/2023"
          ],
          [
           "9/28/2023"
          ],
          [
           "9/29/2023"
          ],
          [
           "9/30/2023"
          ],
          [
           "10/1/2023"
          ],
          [
           "10/2/2023"
          ],
          [
           "10/3/2023"
          ],
          [
           "10/4/2023"
          ],
          [
           "10/5/2023"
          ],
          [
           "10/6/2023"
          ],
          [
           "10/7/2023"
          ],
          [
           "10/8/2023"
          ],
          [
           "10/9/2023"
          ],
          [
           "10/10/2023"
          ],
          [
           "10/11/2023"
          ],
          [
           "10/12/2023"
          ],
          [
           "10/13/2023"
          ],
          [
           "10/14/2023"
          ],
          [
           "10/15/2023"
          ],
          [
           "10/16/2023"
          ],
          [
           "10/17/2023"
          ],
          [
           "10/18/2023"
          ],
          [
           "10/19/2023"
          ],
          [
           "10/20/2023"
          ],
          [
           "10/21/2023"
          ],
          [
           "10/22/2023"
          ],
          [
           "10/23/2023"
          ],
          [
           "10/24/2023"
          ],
          [
           "10/25/2023"
          ],
          [
           "10/26/2023"
          ],
          [
           "10/27/2023"
          ],
          [
           "10/28/2023"
          ],
          [
           "10/29/2023"
          ],
          [
           "10/30/2023"
          ],
          [
           "10/31/2023"
          ],
          [
           "11/1/2023"
          ],
          [
           "11/2/2023"
          ],
          [
           "11/3/2023"
          ],
          [
           "11/4/2023"
          ],
          [
           "11/5/2023"
          ],
          [
           "11/6/2023"
          ],
          [
           "11/7/2023"
          ],
          [
           "11/8/2023"
          ],
          [
           "11/9/2023"
          ],
          [
           "11/10/2023"
          ],
          [
           "11/11/2023"
          ],
          [
           "11/12/2023"
          ],
          [
           "11/13/2023"
          ],
          [
           "11/14/2023"
          ],
          [
           "11/15/2023"
          ],
          [
           "11/16/2023"
          ],
          [
           "11/17/2023"
          ],
          [
           "11/18/2023"
          ],
          [
           "11/19/2023"
          ],
          [
           "11/20/2023"
          ],
          [
           "11/21/2023"
          ],
          [
           "11/22/2023"
          ],
          [
           "11/23/2023"
          ],
          [
           "11/24/2023"
          ],
          [
           "11/25/2023"
          ],
          [
           "11/26/2023"
          ],
          [
           "11/27/2023"
          ],
          [
           "11/28/2023"
          ],
          [
           "11/29/2023"
          ],
          [
           "11/30/2023"
          ],
          [
           "12/1/2023"
          ],
          [
           "12/2/2023"
          ],
          [
           "12/3/2023"
          ],
          [
           "12/4/2023"
          ],
          [
           "12/5/2023"
          ],
          [
           "12/6/2023"
          ],
          [
           "12/7/2023"
          ],
          [
           "12/8/2023"
          ],
          [
           "12/9/2023"
          ],
          [
           "12/10/2023"
          ],
          [
           "12/11/2023"
          ],
          [
           "12/12/2023"
          ],
          [
           "12/13/2023"
          ],
          [
           "12/14/2023"
          ],
          [
           "12/15/2023"
          ],
          [
           "12/16/2023"
          ],
          [
           "12/17/2023"
          ],
          [
           "12/18/2023"
          ],
          [
           "12/19/2023"
          ],
          [
           "12/20/2023"
          ],
          [
           "12/21/2023"
          ],
          [
           "12/22/2023"
          ],
          [
           "12/23/2023"
          ],
          [
           "12/24/2023"
          ],
          [
           "12/25/2023"
          ],
          [
           "12/26/2023"
          ],
          [
           "12/27/2023"
          ],
          [
           "12/28/2023"
          ],
          [
           "12/29/2023"
          ],
          [
           "12/30/2023"
          ],
          [
           "12/31/2023"
          ]
         ],
         "hovertemplate": "Avg Temp (deg C)=%{x}<br>Net Radiation (Wm-2)=%{y}<br>Wind Speed (m/s)=%{marker.size}<br>Date=%{customdata[0]}<br>Vapor Pressure (Pa)=%{marker.color}<extra></extra>",
         "legendgroup": "",
         "marker": {
          "color": [
           499,
           452,
           326,
           281,
           270,
           388,
           465,
           366,
           373,
           433,
           572,
           447,
           420,
           456,
           479,
           452,
           432,
           392,
           261,
           250,
           301,
           311,
           401,
           290,
           231,
           231,
           305,
           304,
           128,
           111,
           129,
           229,
           288,
           289,
           288,
           382,
           316,
           311,
           291,
           225,
           230,
           330,
           387,
           309,
           260,
           232,
           200,
           294,
           343,
           248,
           346,
           448,
           153,
           93,
           173,
           358,
           404,
           259,
           273,
           303,
           364,
           404,
           394,
           369,
           359,
           422,
           453,
           373,
           486,
           299,
           344,
           375,
           368,
           488,
           256,
           172,
           160,
           190,
           383,
           272,
           517,
           501,
           393,
           208,
           233,
           269,
           251,
           412,
           445,
           258,
           305,
           331,
           494,
           360,
           295,
           295,
           326,
           458,
           457,
           467,
           431,
           458,
           515,
           558,
           420,
           383,
           399,
           400,
           441,
           195,
           303,
           455,
           444,
           471,
           773,
           790,
           605,
           430,
           555,
           594,
           517,
           645,
           610,
           722,
           686,
           449,
           607,
           680,
           867,
           1139,
           1117,
           870,
           921,
           1184,
           1112,
           918,
           974,
           1237,
           1069,
           1177,
           845,
           968,
           1089,
           1280,
           1167,
           1191,
           1154,
           1080,
           1044,
           991,
           1055,
           1236,
           1135,
           1294,
           1377,
           1370,
           1291,
           1208,
           1201,
           1203,
           1158,
           1268,
           1313,
           1210,
           1168,
           1298,
           1318,
           1201,
           1133,
           1187,
           1235,
           1522,
           1538,
           1535,
           665,
           1260,
           1452,
           1118,
           1479,
           1414,
           1325,
           1192,
           1219,
           1127,
           1326,
           1418,
           1549,
           1343,
           1553,
           1611,
           1430,
           1163,
           1121,
           1284,
           1311,
           1464,
           1272,
           1180,
           1035,
           1426,
           1720,
           1476,
           1287,
           1202,
           1374,
           1286,
           1395,
           1321,
           1557,
           1641,
           1568,
           1795,
           1829,
           1648,
           1745,
           1384,
           1475,
           1393,
           1290,
           1284,
           1228,
           1268,
           1083,
           1382,
           1154,
           1003,
           1020,
           1027,
           1396,
           1406,
           1342,
           1703,
           1162,
           1116,
           1198,
           1392,
           1589,
           1601,
           1569,
           1474,
           1223,
           1321,
           1098,
           1128,
           1255,
           1490,
           1123,
           971,
           1038,
           714,
           874,
           861,
           1406,
           1231,
           1047,
           942,
           1152,
           1085,
           871,
           856,
           812,
           886,
           917,
           901,
           929,
           540,
           531,
           540,
           699,
           751,
           717,
           838,
           876,
           791,
           967,
           762,
           673,
           741,
           707,
           621,
           585,
           579,
           489,
           775,
           676,
           461,
           510,
           562,
           599,
           550,
           613,
           590,
           494,
           527,
           654,
           566,
           685,
           827,
           782,
           397,
           383,
           302,
           261,
           358,
           439,
           437,
           534,
           588,
           523,
           511,
           482,
           561,
           343,
           269,
           248,
           290,
           340,
           325,
           338,
           539,
           625,
           534,
           542,
           471,
           387,
           366,
           408,
           297,
           264,
           247,
           271,
           286,
           317,
           323,
           366,
           273,
           304,
           401,
           480,
           442,
           379,
           344,
           252,
           329,
           469,
           526,
           488,
           526,
           335,
           311,
           252,
           326,
           347,
           442,
           465,
           411,
           514,
           295,
           178,
           271,
           263,
           253,
           234,
           278,
           345
          ],
          "coloraxis": "coloraxis",
          "size": [
           0.839467593,
           0.864699074,
           0.930555556,
           1.111111111,
           0.298611111,
           0.659375,
           0.998842593,
           0.567476852,
           0.88912037,
           1.332175926,
           0.830671296,
           0.654976852,
           0.269907407,
           1.077546296,
           0.591435185,
           0.658796296,
           0.803125,
           2.652777778,
           0.498032407,
           0.763310185,
           1.612268519,
           0.813657407,
           0.967592593,
           0.65775463,
           5.622685185,
           2.409722222,
           0.925115741,
           1.412037037,
           1.055555556,
           0.882638889,
           0.493981481,
           0.771759259,
           0.917592593,
           0.548842593,
           3.100694444,
           0.950231481,
           3.896990741,
           0.940972222,
           3.172453704,
           4.862268519,
           0.67037037,
           0.258333333,
           1.310185185,
           0.668865741,
           5.152777778,
           1.274305556,
           1.144675926,
           0.618402778,
           0.576157407,
           4.414351852,
           3.372685185,
           1.783564815,
           1.234953704,
           0.857175926,
           0.736921296,
           0.743055556,
           2.496527778,
           4.017361111,
           2.989583333,
           1.091435185,
           0.867939815,
           1.178240741,
           1.375,
           3.665509259,
           1.827546296,
           0.9125,
           1.653935185,
           2.304398148,
           0.927083333,
           4.474537037,
           1.832175926,
           1.020833333,
           1.070601852,
           1.768518519,
           5.284722222,
           2.086805556,
           1.674768519,
           0.820949074,
           1.688657407,
           2.841435185,
           0.773842593,
           1.200231481,
           1.170138889,
           4.038194444,
           1.228009259,
           2.83912037,
           0.806481481,
           1.157407407,
           1.09375,
           6.652777778,
           1.34837963,
           2.162037037,
           2.456018519,
           2.114583333,
           1.393518519,
           1.020833333,
           1.236111111,
           1.144675926,
           1.365740741,
           1.396990741,
           1.306712963,
           1.681712963,
           1.428240741,
           1.174768519,
           1.871527778,
           1.444444444,
           1.016203704,
           3.166666667,
           3.148148148,
           4.925925926,
           1.864583333,
           1.450231481,
           1.08912037,
           1.423611111,
           1.782407407,
           1.561342593,
           3.78125,
           3.511574074,
           1.724537037,
           1.203703704,
           1.099537037,
           1.384259259,
           1.081018519,
           1.846064815,
           1.607638889,
           1.974537037,
           1.125,
           1.268518519,
           1.72337963,
           1.103009259,
           2.010416667,
           5.71875,
           2.396990741,
           0.865162037,
           0.663078704,
           1.615740741,
           1.185185185,
           1.085648148,
           1.074074074,
           0.68287037,
           1.314814815,
           0.895833333,
           0.593865741,
           1.118055556,
           1.143518519,
           1.847222222,
           1.145833333,
           0.738194444,
           0.77974537,
           1.450231481,
           1.680555556,
           0.810532407,
           0.443865741,
           0.348611111,
           0.587847222,
           1.178240741,
           0.75162037,
           0.838425926,
           0.731944444,
           0.799884259,
           0.939814815,
           0.945601852,
           0.773263889,
           0.594907407,
           1.240740741,
           0.890509259,
           0.366550926,
           0.623263889,
           0.90462963,
           1.170138889,
           0.539583333,
           0.836111111,
           1.579861111,
           0.889814815,
           2.93287037,
           1.010416667,
           0.716435185,
           2.324074074,
           0.976851852,
           1.69212963,
           0.623726852,
           1.09837963,
           0.731944444,
           0.704976852,
           1.030092593,
           0.488541667,
           0.653009259,
           0.830902778,
           0.988425926,
           0.46724537,
           0.45787037,
           0.86099537,
           1.395833333,
           0.719444444,
           1.221064815,
           0.681597222,
           1.052083333,
           1.061342593,
           1.828703704,
           0.534606481,
           0.780324074,
           0.644328704,
           0.441087963,
           0.836111111,
           0.675694444,
           0.888541667,
           0.731944444,
           0.724421296,
           0.693634259,
           0.396412037,
           0.633680556,
           0.799768519,
           0.48275463,
           0.627199074,
           0.833564815,
           1.115740741,
           0.650462963,
           0.87962963,
           0.809953704,
           0.753472222,
           0.761574074,
           0.709375,
           1.438657407,
           0.622337963,
           0.972222222,
           0.60625,
           0.763078704,
           1.278935185,
           1.018518519,
           0.626273148,
           0.769328704,
           0.771296296,
           0.678819444,
           0.96875,
           1.357638889,
           1.809027778,
           1.149305556,
           1.019675926,
           0.945601852,
           0.78125,
           0.79224537,
           0.561921296,
           0.611111111,
           0.901736111,
           0.946759259,
           0.819560185,
           2.056712963,
           1.543981481,
           0.709837963,
           1.75462963,
           0.643981481,
           1.060185185,
           0.404282407,
           0.743518519,
           0.530092593,
           0.903472222,
           1.008101852,
           0.407175926,
           0.646180556,
           0.670601852,
           1.511574074,
           1.40625,
           0.849074074,
           1.032407407,
           1.804398148,
           1.976851852,
           0.694328704,
           0.480208333,
           0.873842593,
           0.840856481,
           1.165509259,
           1.084490741,
           0.741319444,
           1.644675926,
           1.387731481,
           1.912037037,
           1.193287037,
           1.008101852,
           1.219907407,
           0.496180556,
           0.481365741,
           0.84837963,
           0.664351852,
           0.916435185,
           3.378472222,
           3.613425926,
           0.667708333,
           0.879282407,
           0.598148148,
           1.300925926,
           1.320601852,
           0.720833333,
           0.680439815,
           0.765972222,
           0.719328704,
           0.433912037,
           0.47974537,
           0.613194444,
           1.013888889,
           0.97337963,
           0.604976852,
           0.893518519,
           0.435763889,
           0.877546296,
           0.635532407,
           1.168981481,
           1.076388889,
           1.059027778,
           1.425925926,
           0.536805556,
           0.924652778,
           1.201388889,
           0.905787037,
           0.997685185,
           1.045138889,
           1.079861111,
           0.171875,
           0.80787037,
           0.600925926,
           1.521990741,
           0.567476852,
           0.743287037,
           1.564814815,
           4.491898148,
           0.324537037,
           0.412384259,
           1.108796296,
           1.106481481,
           0.451273148,
           0.88587963,
           0.655324074,
           0.573611111,
           0.203356481,
           0.286805556,
           0.160185185,
           2.582175926,
           4.506944444,
           2.386574074,
           0.316550926,
           0.180208333,
           2.653935185,
           1.600694444,
           2.133101852,
           1.155092593,
           0.690046296,
           0.750925926,
           0.648958333,
           0.388657407,
           1.439814815,
           0.816898148,
           1.297453704,
           0.381828704,
           0.720949074,
           0.613078704,
           0.601157407,
           0.576851852,
           1.297453704,
           3.415509259,
           2.940972222,
           9.722222222,
           3.386574074,
           0.414930556,
           0.960648148,
           0.566319444,
           0.263657407
          ],
          "sizemode": "area",
          "sizeref": 0.024305555554999997,
          "symbol": "circle"
         },
         "mode": "markers",
         "name": "",
         "orientation": "v",
         "showlegend": false,
         "type": "scatter",
         "x": [
          0.89,
          -3.2,
          -6.65,
          -6.48,
          -6.84,
          0.3,
          0.08,
          -1.16,
          3.39,
          3.84,
          0.88,
          -1.17,
          0.87,
          4.2,
          2.85,
          0.34,
          -1.75,
          -2.9,
          -7.76,
          -5.64,
          -3.22,
          -3.03,
          -2.71,
          -5.15,
          -2.41,
          -1.02,
          -2.44,
          -7.25,
          -17.35,
          -18.29,
          -15.54,
          -6.72,
          -3.66,
          1.39,
          5.73,
          1.53,
          2.47,
          -0.92,
          0.63,
          -2.47,
          -3.5,
          1.72,
          1.95,
          2.14,
          2.31,
          -10.02,
          -8.85,
          -1.68,
          0.74,
          3.89,
          5.77,
          3.66,
          -16.16,
          -20.52,
          -11.63,
          -1.17,
          4.37,
          5.78,
          -0.56,
          -4.87,
          -2.51,
          0.46,
          -1.82,
          1.03,
          -0.84,
          -1.82,
          -1.36,
          2.36,
          1.51,
          6.14,
          -0.5,
          1.09,
          5.99,
          9.6,
          0.28,
          -1.59,
          -1.78,
          0.86,
          4.02,
          6.49,
          -0.64,
          2.62,
          2.7,
          -1.53,
          -2.89,
          -3.7,
          -3.93,
          -0.37,
          4.08,
          4.86,
          6.81,
          11.23,
          4.36,
          -4.73,
          -3.03,
          0.88,
          7.5,
          9.28,
          10.19,
          12.56,
          15.44,
          16.93,
          15.29,
          2.81,
          2.2,
          5.81,
          11.21,
          13.28,
          6.46,
          3.52,
          3.09,
          -1.06,
          4.51,
          9.85,
          6.58,
          8.08,
          9.95,
          8.62,
          14.07,
          11.13,
          11.85,
          12.18,
          16.33,
          14.66,
          12.09,
          12.83,
          12.64,
          14.44,
          15.75,
          11.4,
          10.12,
          12.23,
          12.91,
          10.73,
          10.57,
          15.52,
          17.16,
          12.26,
          11.28,
          13.81,
          17.07,
          15.98,
          16.8,
          15.56,
          16.3,
          15.45,
          14.68,
          15.59,
          16.66,
          17.32,
          16.45,
          14.32,
          16.7,
          13.81,
          12.69,
          14.37,
          16.12,
          16.76,
          17.67,
          17.03,
          15.71,
          13.36,
          12.92,
          13.2,
          16.56,
          15.69,
          12.49,
          14.35,
          18.1,
          20.78,
          18.63,
          18.33,
          18.61,
          20,
          20.43,
          17.78,
          19.99,
          22.89,
          21.02,
          19.91,
          14.52,
          18.8,
          21.76,
          21.07,
          18.23,
          12.95,
          16.17,
          16.31,
          17.19,
          18.58,
          22.59,
          24.43,
          24.71,
          23.35,
          20.16,
          19.85,
          22.04,
          24.77,
          26.15,
          22.61,
          18.02,
          18.43,
          21.67,
          23.73,
          25.08,
          26.22,
          22.88,
          22.35,
          21.73,
          20.44,
          23.94,
          22.89,
          20.58,
          21.56,
          18.71,
          21.36,
          19.26,
          16.51,
          17.02,
          17.72,
          19.91,
          20.66,
          23.7,
          21.23,
          17.4,
          16.45,
          20.65,
          24.95,
          22.73,
          23.63,
          23.27,
          21.34,
          23.67,
          24.46,
          25.02,
          24.67,
          16.78,
          17.74,
          18.6,
          17.8,
          18.42,
          20.29,
          22.6,
          24.04,
          24.53,
          21.07,
          20.07,
          18.05,
          17.47,
          21.26,
          19.17,
          20.83,
          14.08,
          14.7,
          14.95,
          15.78,
          14.04,
          14.25,
          15.02,
          17.38,
          19.12,
          17.44,
          15.21,
          17.05,
          18.16,
          15.32,
          14.43,
          16.03,
          16.62,
          17.24,
          18.67,
          16.87,
          17.17,
          18.11,
          15.8,
          12.29,
          12.31,
          11.29,
          8.23,
          10.21,
          14.08,
          14.74,
          15.7,
          12.26,
          8.34,
          6.77,
          3.78,
          8.88,
          11.16,
          16.51,
          13.27,
          13.87,
          14.93,
          15.47,
          11.62,
          13.8,
          9.71,
          8.69,
          4.58,
          -1.99,
          -4.11,
          -5.39,
          -3.44,
          0.06,
          5.14,
          9.47,
          12.54,
          8.74,
          10.21,
          8.63,
          9.26,
          4.89,
          1.5,
          2,
          5.13,
          6.15,
          3.55,
          9.05,
          6.57,
          7.54,
          4.83,
          7.34,
          7.76,
          5.75,
          2.5,
          5.75,
          -0.11,
          -8.59,
          -10.08,
          -5.15,
          -5.64,
          -2.51,
          -0.09,
          -2.86,
          -4.83,
          -1.06,
          2.98,
          3.66,
          2.47,
          5.39,
          7.15,
          1.26,
          -2.06,
          0.2,
          2.98,
          -1.16,
          -1.17,
          -1.15,
          1.01,
          3.18,
          5.48,
          0.74,
          6.11,
          5.2,
          5.42,
          2.9,
          4.99,
          -2.83,
          -4.82,
          2.05,
          2.86,
          -1.82,
          2.08,
          2.22,
          -2.19
         ],
         "xaxis": "x",
         "y": [
          90.14,
          11.46,
          64.83,
          133.8,
          56.86,
          86.88,
          109.49,
          79.24,
          79.07,
          109.72,
          47.6,
          110.88,
          102.78,
          74.17,
          37.51,
          96.53,
          59.09,
          51.78,
          102.78,
          110.19,
          79.91,
          128.24,
          57.21,
          102.55,
          120.6,
          115.28,
          81.54,
          43.68,
          45.51,
          105.09,
          151.04,
          147.8,
          151.27,
          131.25,
          149.07,
          134.95,
          102.08,
          161,
          140.16,
          167.59,
          165.86,
          157.29,
          138.31,
          145.14,
          146.41,
          85.64,
          181.37,
          178.36,
          74,
          169.56,
          78.73,
          145.25,
          77.33,
          192.71,
          176.27,
          198.61,
          140.05,
          205.79,
          179.86,
          86.42,
          206.83,
          91.97,
          97.92,
          176.04,
          204.51,
          74.72,
          42.82,
          223.15,
          149.07,
          218.98,
          186.92,
          214.47,
          200.93,
          200.69,
          227.66,
          245.6,
          251.39,
          225.35,
          150,
          240.86,
          65.5,
          185.65,
          153.47,
          207.99,
          241.78,
          201.04,
          275,
          251.04,
          230.32,
          204.63,
          253.24,
          276.62,
          186.11,
          179.98,
          266.67,
          291.55,
          293.06,
          126.04,
          267.25,
          294.91,
          304.98,
          253.01,
          151.74,
          55.27,
          246.64,
          303.7,
          263.77,
          267.48,
          169.21,
          259.03,
          159.72,
          146.41,
          308.22,
          293.06,
          115.28,
          257.75,
          253.12,
          304.51,
          274.31,
          303.82,
          307.75,
          262.27,
          293.63,
          171.18,
          191.32,
          308.56,
          222.69,
          274.65,
          297.69,
          87.89,
          54.56,
          224.88,
          208.68,
          99.19,
          100.81,
          236.23,
          260.53,
          148.38,
          122.45,
          214.47,
          330.44,
          265.51,
          275.35,
          215.39,
          317.01,
          193.29,
          245.37,
          256.71,
          269.44,
          287.73,
          254.05,
          215.39,
          265.16,
          153.7,
          66.2,
          200.12,
          310.07,
          222.34,
          281.83,
          249.77,
          218.75,
          150.35,
          108.56,
          160.53,
          309.38,
          186.92,
          99.88,
          278.12,
          294.21,
          349.65,
          259.03,
          239.12,
          231.94,
          239.35,
          358.8,
          326.39,
          341.09,
          350.12,
          320.83,
          312.85,
          140.86,
          290.05,
          293.75,
          265.39,
          197.11,
          58.68,
          146.3,
          210.19,
          201.27,
          263.43,
          254.28,
          330.56,
          293.98,
          268.17,
          320.49,
          280.56,
          324.19,
          294.21,
          162.27,
          133.56,
          145.6,
          270.49,
          314.35,
          254.75,
          274.77,
          251.27,
          165.97,
          223.84,
          183.68,
          198.84,
          207.52,
          218.63,
          196.18,
          177.31,
          220.37,
          296.06,
          252.66,
          175.93,
          195.37,
          184.14,
          308.68,
          251.04,
          262.96,
          174.88,
          131.48,
          305.67,
          306.48,
          285.53,
          273.38,
          176.39,
          223.15,
          252.66,
          291.78,
          266.32,
          234.14,
          221.99,
          32.37,
          176.27,
          189.35,
          206.48,
          273.84,
          252.43,
          258.8,
          244.44,
          221.53,
          168.98,
          233.91,
          243.75,
          258.68,
          267.25,
          254.63,
          242.01,
          39.92,
          194.21,
          250.58,
          241.67,
          114.24,
          163.89,
          248.84,
          240.51,
          176.74,
          131.83,
          145.14,
          204.51,
          223.84,
          234.03,
          233.91,
          231.02,
          225.12,
          223.26,
          222.57,
          216.44,
          170.83,
          204.51,
          158.22,
          160.3,
          172.11,
          201.62,
          121.76,
          202.2,
          200.58,
          194.68,
          159.49,
          94.44,
          88.98,
          179.98,
          155.44,
          184.49,
          182.41,
          171.99,
          163.66,
          179.63,
          180.56,
          170.72,
          158.68,
          168.06,
          134.84,
          160.88,
          31.49,
          80.59,
          18.02,
          87.06,
          157.87,
          154.86,
          137.04,
          141.78,
          142.13,
          144.91,
          99.77,
          120.83,
          143.17,
          61.84,
          139.35,
          143.29,
          138.31,
          139.24,
          117.59,
          122.92,
          110.19,
          85.79,
          126.27,
          105.9,
          75.38,
          60.12,
          123.15,
          109.03,
          12.86,
          27.11,
          32.19,
          122.11,
          120.25,
          120.83,
          103.36,
          79.48,
          51.35,
          99.42,
          105.56,
          72.59,
          109.37,
          108.33,
          102.43,
          39.8,
          65.79,
          81.47,
          76.44,
          9.51,
          24.69,
          28.03,
          96.3,
          102.66,
          106.25,
          82.73,
          64.13,
          58.92,
          95.14,
          102.2,
          53.33,
          94.79,
          92.71,
          50.39,
          81.63,
          106.71,
          107.18,
          106.02,
          73.8
         ],
         "yaxis": "y"
        }
       ],
       "layout": {
        "coloraxis": {
         "colorbar": {
          "title": {
           "text": "Vapor Pressure (Pa)"
          }
         },
         "colorscale": [
          [
           0,
           "#0d0887"
          ],
          [
           0.1111111111111111,
           "#46039f"
          ],
          [
           0.2222222222222222,
           "#7201a8"
          ],
          [
           0.3333333333333333,
           "#9c179e"
          ],
          [
           0.4444444444444444,
           "#bd3786"
          ],
          [
           0.5555555555555556,
           "#d8576b"
          ],
          [
           0.6666666666666666,
           "#ed7953"
          ],
          [
           0.7777777777777778,
           "#fb9f3a"
          ],
          [
           0.8888888888888888,
           "#fdca26"
          ],
          [
           1,
           "#f0f921"
          ]
         ]
        },
        "legend": {
         "itemsizing": "constant",
         "tracegroupgap": 0
        },
        "template": {
         "data": {
          "bar": [
           {
            "error_x": {
             "color": "#2a3f5f"
            },
            "error_y": {
             "color": "#2a3f5f"
            },
            "marker": {
             "line": {
              "color": "#E5ECF6",
              "width": 0.5
             },
             "pattern": {
              "fillmode": "overlay",
              "size": 10,
              "solidity": 0.2
             }
            },
            "type": "bar"
           }
          ],
          "barpolar": [
           {
            "marker": {
             "line": {
              "color": "#E5ECF6",
              "width": 0.5
             },
             "pattern": {
              "fillmode": "overlay",
              "size": 10,
              "solidity": 0.2
             }
            },
            "type": "barpolar"
           }
          ],
          "carpet": [
           {
            "aaxis": {
             "endlinecolor": "#2a3f5f",
             "gridcolor": "white",
             "linecolor": "white",
             "minorgridcolor": "white",
             "startlinecolor": "#2a3f5f"
            },
            "baxis": {
             "endlinecolor": "#2a3f5f",
             "gridcolor": "white",
             "linecolor": "white",
             "minorgridcolor": "white",
             "startlinecolor": "#2a3f5f"
            },
            "type": "carpet"
           }
          ],
          "choropleth": [
           {
            "colorbar": {
             "outlinewidth": 0,
             "ticks": ""
            },
            "type": "choropleth"
           }
          ],
          "contour": [
           {
            "colorbar": {
             "outlinewidth": 0,
             "ticks": ""
            },
            "colorscale": [
             [
              0,
              "#0d0887"
             ],
             [
              0.1111111111111111,
              "#46039f"
             ],
             [
              0.2222222222222222,
              "#7201a8"
             ],
             [
              0.3333333333333333,
              "#9c179e"
             ],
             [
              0.4444444444444444,
              "#bd3786"
             ],
             [
              0.5555555555555556,
              "#d8576b"
             ],
             [
              0.6666666666666666,
              "#ed7953"
             ],
             [
              0.7777777777777778,
              "#fb9f3a"
             ],
             [
              0.8888888888888888,
              "#fdca26"
             ],
             [
              1,
              "#f0f921"
             ]
            ],
            "type": "contour"
           }
          ],
          "contourcarpet": [
           {
            "colorbar": {
             "outlinewidth": 0,
             "ticks": ""
            },
            "type": "contourcarpet"
           }
          ],
          "heatmap": [
           {
            "colorbar": {
             "outlinewidth": 0,
             "ticks": ""
            },
            "colorscale": [
             [
              0,
              "#0d0887"
             ],
             [
              0.1111111111111111,
              "#46039f"
             ],
             [
              0.2222222222222222,
              "#7201a8"
             ],
             [
              0.3333333333333333,
              "#9c179e"
             ],
             [
              0.4444444444444444,
              "#bd3786"
             ],
             [
              0.5555555555555556,
              "#d8576b"
             ],
             [
              0.6666666666666666,
              "#ed7953"
             ],
             [
              0.7777777777777778,
              "#fb9f3a"
             ],
             [
              0.8888888888888888,
              "#fdca26"
             ],
             [
              1,
              "#f0f921"
             ]
            ],
            "type": "heatmap"
           }
          ],
          "heatmapgl": [
           {
            "colorbar": {
             "outlinewidth": 0,
             "ticks": ""
            },
            "colorscale": [
             [
              0,
              "#0d0887"
             ],
             [
              0.1111111111111111,
              "#46039f"
             ],
             [
              0.2222222222222222,
              "#7201a8"
             ],
             [
              0.3333333333333333,
              "#9c179e"
             ],
             [
              0.4444444444444444,
              "#bd3786"
             ],
             [
              0.5555555555555556,
              "#d8576b"
             ],
             [
              0.6666666666666666,
              "#ed7953"
             ],
             [
              0.7777777777777778,
              "#fb9f3a"
             ],
             [
              0.8888888888888888,
              "#fdca26"
             ],
             [
              1,
              "#f0f921"
             ]
            ],
            "type": "heatmapgl"
           }
          ],
          "histogram": [
           {
            "marker": {
             "pattern": {
              "fillmode": "overlay",
              "size": 10,
              "solidity": 0.2
             }
            },
            "type": "histogram"
           }
          ],
          "histogram2d": [
           {
            "colorbar": {
             "outlinewidth": 0,
             "ticks": ""
            },
            "colorscale": [
             [
              0,
              "#0d0887"
             ],
             [
              0.1111111111111111,
              "#46039f"
             ],
             [
              0.2222222222222222,
              "#7201a8"
             ],
             [
              0.3333333333333333,
              "#9c179e"
             ],
             [
              0.4444444444444444,
              "#bd3786"
             ],
             [
              0.5555555555555556,
              "#d8576b"
             ],
             [
              0.6666666666666666,
              "#ed7953"
             ],
             [
              0.7777777777777778,
              "#fb9f3a"
             ],
             [
              0.8888888888888888,
              "#fdca26"
             ],
             [
              1,
              "#f0f921"
             ]
            ],
            "type": "histogram2d"
           }
          ],
          "histogram2dcontour": [
           {
            "colorbar": {
             "outlinewidth": 0,
             "ticks": ""
            },
            "colorscale": [
             [
              0,
              "#0d0887"
             ],
             [
              0.1111111111111111,
              "#46039f"
             ],
             [
              0.2222222222222222,
              "#7201a8"
             ],
             [
              0.3333333333333333,
              "#9c179e"
             ],
             [
              0.4444444444444444,
              "#bd3786"
             ],
             [
              0.5555555555555556,
              "#d8576b"
             ],
             [
              0.6666666666666666,
              "#ed7953"
             ],
             [
              0.7777777777777778,
              "#fb9f3a"
             ],
             [
              0.8888888888888888,
              "#fdca26"
             ],
             [
              1,
              "#f0f921"
             ]
            ],
            "type": "histogram2dcontour"
           }
          ],
          "mesh3d": [
           {
            "colorbar": {
             "outlinewidth": 0,
             "ticks": ""
            },
            "type": "mesh3d"
           }
          ],
          "parcoords": [
           {
            "line": {
             "colorbar": {
              "outlinewidth": 0,
              "ticks": ""
             }
            },
            "type": "parcoords"
           }
          ],
          "pie": [
           {
            "automargin": true,
            "type": "pie"
           }
          ],
          "scatter": [
           {
            "fillpattern": {
             "fillmode": "overlay",
             "size": 10,
             "solidity": 0.2
            },
            "type": "scatter"
           }
          ],
          "scatter3d": [
           {
            "line": {
             "colorbar": {
              "outlinewidth": 0,
              "ticks": ""
             }
            },
            "marker": {
             "colorbar": {
              "outlinewidth": 0,
              "ticks": ""
             }
            },
            "type": "scatter3d"
           }
          ],
          "scattercarpet": [
           {
            "marker": {
             "colorbar": {
              "outlinewidth": 0,
              "ticks": ""
             }
            },
            "type": "scattercarpet"
           }
          ],
          "scattergeo": [
           {
            "marker": {
             "colorbar": {
              "outlinewidth": 0,
              "ticks": ""
             }
            },
            "type": "scattergeo"
           }
          ],
          "scattergl": [
           {
            "marker": {
             "colorbar": {
              "outlinewidth": 0,
              "ticks": ""
             }
            },
            "type": "scattergl"
           }
          ],
          "scattermapbox": [
           {
            "marker": {
             "colorbar": {
              "outlinewidth": 0,
              "ticks": ""
             }
            },
            "type": "scattermapbox"
           }
          ],
          "scatterpolar": [
           {
            "marker": {
             "colorbar": {
              "outlinewidth": 0,
              "ticks": ""
             }
            },
            "type": "scatterpolar"
           }
          ],
          "scatterpolargl": [
           {
            "marker": {
             "colorbar": {
              "outlinewidth": 0,
              "ticks": ""
             }
            },
            "type": "scatterpolargl"
           }
          ],
          "scatterternary": [
           {
            "marker": {
             "colorbar": {
              "outlinewidth": 0,
              "ticks": ""
             }
            },
            "type": "scatterternary"
           }
          ],
          "surface": [
           {
            "colorbar": {
             "outlinewidth": 0,
             "ticks": ""
            },
            "colorscale": [
             [
              0,
              "#0d0887"
             ],
             [
              0.1111111111111111,
              "#46039f"
             ],
             [
              0.2222222222222222,
              "#7201a8"
             ],
             [
              0.3333333333333333,
              "#9c179e"
             ],
             [
              0.4444444444444444,
              "#bd3786"
             ],
             [
              0.5555555555555556,
              "#d8576b"
             ],
             [
              0.6666666666666666,
              "#ed7953"
             ],
             [
              0.7777777777777778,
              "#fb9f3a"
             ],
             [
              0.8888888888888888,
              "#fdca26"
             ],
             [
              1,
              "#f0f921"
             ]
            ],
            "type": "surface"
           }
          ],
          "table": [
           {
            "cells": {
             "fill": {
              "color": "#EBF0F8"
             },
             "line": {
              "color": "white"
             }
            },
            "header": {
             "fill": {
              "color": "#C8D4E3"
             },
             "line": {
              "color": "white"
             }
            },
            "type": "table"
           }
          ]
         },
         "layout": {
          "annotationdefaults": {
           "arrowcolor": "#2a3f5f",
           "arrowhead": 0,
           "arrowwidth": 1
          },
          "autotypenumbers": "strict",
          "coloraxis": {
           "colorbar": {
            "outlinewidth": 0,
            "ticks": ""
           }
          },
          "colorscale": {
           "diverging": [
            [
             0,
             "#8e0152"
            ],
            [
             0.1,
             "#c51b7d"
            ],
            [
             0.2,
             "#de77ae"
            ],
            [
             0.3,
             "#f1b6da"
            ],
            [
             0.4,
             "#fde0ef"
            ],
            [
             0.5,
             "#f7f7f7"
            ],
            [
             0.6,
             "#e6f5d0"
            ],
            [
             0.7,
             "#b8e186"
            ],
            [
             0.8,
             "#7fbc41"
            ],
            [
             0.9,
             "#4d9221"
            ],
            [
             1,
             "#276419"
            ]
           ],
           "sequential": [
            [
             0,
             "#0d0887"
            ],
            [
             0.1111111111111111,
             "#46039f"
            ],
            [
             0.2222222222222222,
             "#7201a8"
            ],
            [
             0.3333333333333333,
             "#9c179e"
            ],
            [
             0.4444444444444444,
             "#bd3786"
            ],
            [
             0.5555555555555556,
             "#d8576b"
            ],
            [
             0.6666666666666666,
             "#ed7953"
            ],
            [
             0.7777777777777778,
             "#fb9f3a"
            ],
            [
             0.8888888888888888,
             "#fdca26"
            ],
            [
             1,
             "#f0f921"
            ]
           ],
           "sequentialminus": [
            [
             0,
             "#0d0887"
            ],
            [
             0.1111111111111111,
             "#46039f"
            ],
            [
             0.2222222222222222,
             "#7201a8"
            ],
            [
             0.3333333333333333,
             "#9c179e"
            ],
            [
             0.4444444444444444,
             "#bd3786"
            ],
            [
             0.5555555555555556,
             "#d8576b"
            ],
            [
             0.6666666666666666,
             "#ed7953"
            ],
            [
             0.7777777777777778,
             "#fb9f3a"
            ],
            [
             0.8888888888888888,
             "#fdca26"
            ],
            [
             1,
             "#f0f921"
            ]
           ]
          },
          "colorway": [
           "#636efa",
           "#EF553B",
           "#00cc96",
           "#ab63fa",
           "#FFA15A",
           "#19d3f3",
           "#FF6692",
           "#B6E880",
           "#FF97FF",
           "#FECB52"
          ],
          "font": {
           "color": "#2a3f5f"
          },
          "geo": {
           "bgcolor": "white",
           "lakecolor": "white",
           "landcolor": "#E5ECF6",
           "showlakes": true,
           "showland": true,
           "subunitcolor": "white"
          },
          "hoverlabel": {
           "align": "left"
          },
          "hovermode": "closest",
          "mapbox": {
           "style": "light"
          },
          "paper_bgcolor": "white",
          "plot_bgcolor": "#E5ECF6",
          "polar": {
           "angularaxis": {
            "gridcolor": "white",
            "linecolor": "white",
            "ticks": ""
           },
           "bgcolor": "#E5ECF6",
           "radialaxis": {
            "gridcolor": "white",
            "linecolor": "white",
            "ticks": ""
           }
          },
          "scene": {
           "xaxis": {
            "backgroundcolor": "#E5ECF6",
            "gridcolor": "white",
            "gridwidth": 2,
            "linecolor": "white",
            "showbackground": true,
            "ticks": "",
            "zerolinecolor": "white"
           },
           "yaxis": {
            "backgroundcolor": "#E5ECF6",
            "gridcolor": "white",
            "gridwidth": 2,
            "linecolor": "white",
            "showbackground": true,
            "ticks": "",
            "zerolinecolor": "white"
           },
           "zaxis": {
            "backgroundcolor": "#E5ECF6",
            "gridcolor": "white",
            "gridwidth": 2,
            "linecolor": "white",
            "showbackground": true,
            "ticks": "",
            "zerolinecolor": "white"
           }
          },
          "shapedefaults": {
           "line": {
            "color": "#2a3f5f"
           }
          },
          "ternary": {
           "aaxis": {
            "gridcolor": "white",
            "linecolor": "white",
            "ticks": ""
           },
           "baxis": {
            "gridcolor": "white",
            "linecolor": "white",
            "ticks": ""
           },
           "bgcolor": "#E5ECF6",
           "caxis": {
            "gridcolor": "white",
            "linecolor": "white",
            "ticks": ""
           }
          },
          "title": {
           "x": 0.05
          },
          "xaxis": {
           "automargin": true,
           "gridcolor": "white",
           "linecolor": "white",
           "ticks": "",
           "title": {
            "standoff": 15
           },
           "zerolinecolor": "white",
           "zerolinewidth": 2
          },
          "yaxis": {
           "automargin": true,
           "gridcolor": "white",
           "linecolor": "white",
           "ticks": "",
           "title": {
            "standoff": 15
           },
           "zerolinecolor": "white",
           "zerolinewidth": 2
          }
         }
        },
        "title": {
         "text": "Interactive Plot of Temperature vs. Net Radiation"
        },
        "xaxis": {
         "anchor": "y",
         "domain": [
          0,
          1
         ],
         "title": {
          "text": "Avg Temp (deg C)"
         }
        },
        "yaxis": {
         "anchor": "x",
         "domain": [
          0,
          1
         ],
         "title": {
          "text": "Net Radiation (Wm-2)"
         }
        }
       }
      }
     },
     "metadata": {},
     "output_type": "display_data"
    }
   ],
   "source": [
    "# Interactive scatter plot with Plotly Express\n",
    "fig = px.scatter(df, x='Avg Temp (deg C)', y='Net Radiation (Wm-2)',\n",
    "                 color='Vapor Pressure (Pa)',\n",
    "                 size='Wind Speed (m/s)',\n",
    "                 hover_data=['Date'],\n",
    "                 title='Interactive Plot of Temperature vs. Net Radiation')\n",
    "fig.show()\n"
   ]
  },
  {
   "cell_type": "markdown",
   "metadata": {},
   "source": [
    "## Aggregate and Plot Data by Month in Pandas with Groupby"
   ]
  },
  {
   "cell_type": "code",
   "execution_count": 6,
   "metadata": {},
   "outputs": [
    {
     "data": {
      "image/png": "[encoded data removed]",
      "text/plain": [
       "<Figure size 1000x600 with 1 Axes>"
      ]
     },
     "metadata": {},
     "output_type": "display_data"
    }
   ],
   "source": [
    "\n",
    "SWE_fn = SWE_fn = r\"Data\\Problem1_5yr_SWE.csv\"\n",
    "SWE_data = pd.read_csv(SWE_fn)\n",
    "\n",
    "SWE_data['Date'] = pd.to_datetime(SWE_data['Date'], format='%m/%d/%Y') # Convert 'Date' column to datetime format\n",
    "\n",
    "# Define a function to determine the water year\n",
    "def get_water_year(date):\n",
    "    if date.month >= 10:\n",
    "        return date.year + 1\n",
    "    else:\n",
    "        return date.year\n",
    "\n",
    "SWE_data['Water Year'] = SWE_data['Date'].apply(get_water_year) # Create a new column for 'Water Year'\n",
    "\n",
    "fig, ax = plt.subplots(figsize=(10, 6))\n",
    "\n",
    "# Group data by 'Water Year'\n",
    "for year, group in SWE_data.groupby('Water Year'):\n",
    "    # Create a reference date for the start of each water year\n",
    "    start_of_water_year = pd.to_datetime(str(year-1) + '-10-01')\n",
    "    \n",
    "    # Calculate 'Day of Water Year' for each row in the group\n",
    "    group = group.copy()  # To avoid SettingWithCopyWarning\n",
    "    group['Day of Water Year'] = (group['Date'] - start_of_water_year).dt.days\n",
    "    group['Month of Water Year'] = (group['Date'] - start_of_water_year).dt.days / 30.44\n",
    "    # Plotting each group with a label for the water year\n",
    "    ax.plot(group['Month of Water Year'], group['SWE (in)'], label=f'Water Year {year}')\n",
    "    #Change to month of year\n",
    "ax.set_xticks(np.arange(0, 12))  # Adjusted to align with the 'Month of Water Year' calculation\n",
    "ax.set_xticklabels(['Oct', 'Nov', 'Dec', 'Jan', 'Feb', 'Mar', 'Apr', 'May', 'Jun', 'Jul', 'Aug', 'Sep'])\n",
    "\n",
    "# This sets the major ticks on the x-axis to be spaced every 30 days (approximately monthly)\n",
    "ax.xaxis.set_major_locator(plt.MaxNLocator(integer=True))\n",
    "\n",
    "plt.title('Daily SWE by Water Year at Joe Wright SNOTEL Site')\n",
    "plt.xlabel('Month of Water Year')\n",
    "plt.ylabel('SWE (inches)')\n",
    "plt.legend()\n",
    "plt.grid(True)\n",
    "plt.tight_layout()\n",
    "\n",
    "# Show plot\n",
    "plt.show()"
   ]
  }
 ],
 "metadata": {
  "kernelspec": {
   "display_name": "GIStools",
   "language": "python",
   "name": "python3"
  },
  "language_info": {
   "codemirror_mode": {
    "name": "ipython",
    "version": 3
   },
   "file_extension": ".py",
   "mimetype": "text/x-python",
   "name": "python",
   "nbconvert_exporter": "python",
   "pygments_lexer": "ipython3",
   "version": "3.11.6"
  }
 },
 "nbformat": 4,
 "nbformat_minor": 2
}
