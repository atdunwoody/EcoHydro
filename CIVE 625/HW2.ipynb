{
 "cells": [
  {
   "cell_type": "markdown",
   "metadata": {},
   "source": [
    "# Problem 1\n",
    "A micrometeorologist is making measurements of surface energy fluxes using the Eddy Correlation method applied above an area of short grass with an albedo of 23% growing in a wet clay soil with 40% porosity. During one particular hour her instruments provide the measurements of the vertical wind speed, w, air temperature, T, and specific humidity, q, every minute given in the table below. See Chapter 7 of Terrestrial Hydrometeorology, and note that fluctuations in the variables are the difference between the current value (at each second in this case) and the time average value over the hour. "
   ]
  },
  {
   "cell_type": "code",
   "execution_count": 12,
   "metadata": {},
   "outputs": [],
   "source": [
    "import numpy as np\n",
    "import pandas as pd\n",
    "import matplotlib.pyplot as plt\n",
    "import seaborn as sns\n",
    "import os\n",
    "import utilities as util\n",
    "import pint\n",
    "ureg = pint.UnitRegistry()\n"
   ]
  },
  {
   "cell_type": "code",
   "execution_count": 15,
   "metadata": {},
   "outputs": [
    {
     "name": "stdout",
     "output_type": "stream",
     "text": [
      "    Time     w       T        q\n",
      "1    0.5  0.21  19.941  0.05197\n",
      "2    1.5 -0.15  18.982  0.05019\n",
      "3    2.5 -0.44  19.438  0.05086\n",
      "4    3.5 -0.78  18.219  0.05041\n",
      "5    4.5  0.39  20.860  0.04893\n",
      "6    5.5 -1.96  19.305  0.05008\n",
      "7    6.5  0.99  19.814  0.04716\n",
      "8    7.5 -0.02  17.800  0.04971\n",
      "9    8.5 -0.62  21.357  0.05026\n",
      "10   9.5 -0.73  19.228  0.05066\n",
      "11  10.5 -0.81  19.042  0.04979\n",
      "12  11.5 -0.09  19.002  0.04934\n",
      "13  12.5  1.40  19.382  0.05169\n",
      "14  13.5 -0.57  20.159  0.05012\n",
      "15  14.5  0.08  19.401  0.05012\n",
      "16  15.5  1.69  20.400  0.05096\n",
      "17  16.5  0.56  20.917  0.05006\n",
      "18  17.5  0.37  21.537  0.05037\n",
      "19  18.5  0.21  21.168  0.05215\n",
      "20  19.5  0.71  21.730  0.04994\n",
      "21  20.5  0.36  20.900  0.04950\n",
      "22  21.5 -0.88  20.673  0.05105\n",
      "23  22.5 -0.95  20.082  0.04942\n",
      "24  23.5  0.93  20.089  0.04974\n",
      "25  24.5 -1.86  20.733  0.04987\n",
      "26  25.5  0.61  18.429  0.04923\n",
      "27  26.5 -0.54  20.574  0.04995\n",
      "28  27.5  0.86  19.094  0.05035\n",
      "29  28.5  0.60  20.576  0.04966\n",
      "30  29.5  0.09  21.079  0.05168\n",
      "31  30.5 -0.95  19.268  0.05103\n",
      "32  31.5 -0.28  18.849  0.04827\n",
      "33  32.5  0.38  19.820  0.05026\n",
      "34  33.5 -0.30  19.150  0.05026\n",
      "35  34.5  0.78  20.575  0.04920\n",
      "36  35.5 -1.32  19.236  0.05116\n",
      "37  36.5 -0.86  18.673  0.04903\n",
      "38  37.5  1.54  19.667  0.05095\n",
      "39  38.5  0.27  21.093  0.05015\n",
      "40  39.5  0.08  18.967  0.05126\n",
      "41  40.5  0.94  20.841  0.05054\n",
      "42  41.5 -0.70  19.710  0.04965\n",
      "43  42.5 -1.16  19.516  0.04937\n",
      "44  43.5  1.95  19.949  0.05008\n",
      "45  44.5 -1.73  21.114  0.04934\n",
      "46  45.5 -1.42  19.924  0.04924\n",
      "47  46.5 -0.76  20.456  0.04870\n",
      "48  47.5 -0.68  21.541  0.05118\n",
      "49  48.5  0.47  19.559  0.05344\n",
      "50  49.5  0.68  22.188  0.04873\n",
      "51  50.5  0.71  22.547  0.05013\n",
      "52  51.5 -0.45  20.385  0.05150\n",
      "53  52.5 -0.22  17.667  0.05086\n",
      "54  53.5  1.80  19.350  0.05139\n",
      "55  54.5  0.38  19.821  0.05006\n",
      "56  55.5 -1.86  20.478  0.05030\n",
      "57  56.5 -0.59  20.846  0.04944\n",
      "58  57.5  1.17  19.655  0.04957\n",
      "59  58.5 -0.72  20.184  0.05020\n",
      "60  59.5  0.88  20.361  0.04962\n",
      "\n",
      "Units:\n",
      "Time: min\n",
      "w: m / s\n",
      "T: deg C\n",
      "q: kg / kg\n"
     ]
    }
   ],
   "source": [
    "#Given data\n",
    "albedo = 0.23\n",
    "porosity = 0.40\n",
    "\n",
    "#import data from problem statement\n",
    "obs_data_fn = r\"C:\\Users\\adunw\\OneDrive - Colostate\\Fort Collins\\Courses\\Spring 2024\\CIVE 625\\Homework\\HW_2\\Problem 1 Data.xlsx\"\n",
    "obs_data = pd.read_excel(obs_data_fn)\n",
    "# Delete second row that contains units\n",
    "obs_data = obs_data.drop(0)\n",
    "\n",
    "#Add units to the data without changing the column names\n",
    "#Column names: Time\tw\tT\tq\n",
    "#Data Units: (min)\t(m s-1)\t(deg C)\t(kg kg-1)\n",
    "\n",
    "obs_data['Time'] = obs_data['Time'].astype(float)\n",
    "obs_data['w'] = obs_data['w'].astype(float)\n",
    "obs_data['T'] = obs_data['T'].astype(float)\n",
    "obs_data['q'] = obs_data['q'].astype(float)\n",
    "\n",
    "#Attach units to the data without changing data type or column names\n",
    "# Define the units for each column\n",
    "units = {'Time': 'min', 'w': 'm / s', 'T': 'deg C', 'q': 'kg / kg'}\n",
    "\n",
    "# Attach units as metadata to the DataFrame\n",
    "obs_data.attrs['units'] = units\n",
    "\n",
    "def print_df_with_units(df):\n",
    "    # Check if units metadata exists\n",
    "    if 'units' in df.attrs:\n",
    "        # Print the DataFrame\n",
    "        print(df)\n",
    "        # Print the units\n",
    "        print(\"\\nUnits:\")\n",
    "        for column, unit in df.attrs['units'].items():\n",
    "            print(f\"{column}: {unit}\")\n",
    "    else:\n",
    "        # Just print the DataFrame if no units metadata is found\n",
    "        print(df)\n",
    "\n",
    "# Example usage\n",
    "print_df_with_units(obs_data)\n",
    "\n",
    "\n"
   ]
  },
  {
   "cell_type": "markdown",
   "metadata": {},
   "source": [
    "## Problem 1a\n",
    "### (a)\tPlot the minute-by-minute values of w' in m/s, Tv' in deg C and q’ in kg/kg calculated by the micrometeorologist from these data. (30 points)\n",
    "\n",
    "Obs_data_fn has time, s, vertical wind speed, w, air temperature, T, and specific humidity, q\n",
    "\n",
    "fluctuations in the variables = current value (at each minute in this case) - time average value over the hour"
   ]
  },
  {
   "cell_type": "code",
   "execution_count": 64,
   "metadata": {},
   "outputs": [],
   "source": [
    "def calc_virtual_temp(temp, specific_humidity):\n",
    "    \"\"\"\n",
    "    Calculate virtual temperature\n",
    "    :param temp: temperature in C\n",
    "    :param specific_humidity: specific humidity in g/kg\n",
    "    :return: virtual temperature in C\n",
    "    \"\"\"\n",
    "\n",
    "    # Calculate virtual temperature\n",
    "    virtual_temp = temp * (1 + (0.61 * specific_humidity))\n",
    "    return virtual_temp"
   ]
  },
  {
   "cell_type": "code",
   "execution_count": null,
   "metadata": {},
   "outputs": [],
   "source": [
    "#Virtual temperature in C\n",
    "obs_data['T_v'] = calc_virtual_temp(obs_data['T'], obs_data['q'])\n",
    "\n",
    "#Calculate the time average values of w, T, and q\n",
    "w_bar = obs_data['w'].mean()\n",
    "Tv_bar = obs_data['T_v'].mean()\n",
    "q_bar = obs_data['q'].mean()\n",
    "\n",
    "#Create new columns for the fluctuations in w, T, and q\n",
    "obs_data['w_prime'] = obs_data['w'] - w_bar\n",
    "obs_data['Tv_prime'] = obs_data['T_v'] - Tv_bar\n",
    "obs_data['q_prime'] = obs_data['q'] - q_bar\n",
    "\n",
    "#Plot the minute-by-minute values of w' in m s-1, Tv' in deg C, and q' in kg kg-1\n",
    "fig, ax = plt.subplots(3,1, figsize=(10,10))\n",
    "ax[0].plot(obs_data['Time'], obs_data['w_prime'])\n",
    "ax[0].set_ylabel(\"w' (m/s)\")\n",
    "ax[0].set_xlabel(\"Time (min)\")\n",
    "ax[0].set_title(\"Fluctuations in Vertical Wind Speed\")\n",
    "ax[1].plot(obs_data['Time'], obs_data['Tv_prime'])\n",
    "ax[1].set_ylabel(\"Tv' (deg C)\")\n",
    "ax[1].set_xlabel(\"Time (s)\")\n",
    "ax[1].set_title(\"Fluctuations in Virtual Air Temperature\")\n",
    "ax[2].plot(obs_data['Time'], obs_data['q_prime'])\n",
    "ax[2].set_ylabel(\"q' (kg/kg)\")\n",
    "ax[2].set_xlabel(\"Time (min)\")\n",
    "ax[2].set_title(\"Fluctuations in Specific Humidity\")\n",
    "plt.tight_layout()\n",
    "plt.show()\n"
   ]
  },
  {
   "cell_type": "markdown",
   "metadata": {},
   "source": [
    "# Problem 1b\n",
    "\n",
    "(b)\tPlot the minute-by-minute values of the product (w'Tv') in m s-1 (deg C) and (w'q') in m s-1 kg kg-1 calculated by the micrometeorologist from these data. (20 points)"
   ]
  },
  {
   "cell_type": "code",
   "execution_count": null,
   "metadata": {},
   "outputs": [],
   "source": [
    "obs_data['w_prime x Tv_prime'] = obs_data['w_prime'] * obs_data['Tv_prime']\n",
    "obs_data['w_prime x q_prime'] = obs_data['w_prime'] * obs_data['q_prime']\n",
    "\n",
    "#Plot the minute-by-minute values of w' in m s-1, Tv' in deg C, and q' in kg kg-1\n",
    "fig, ax = plt.subplots(2,1, figsize=(10,10))\n",
    "ax[0].plot(obs_data['Time'], obs_data['w_prime x Tv_prime'])\n",
    "ax[0].set_ylabel(\"w'Tv' (m/s * deg C)\")\n",
    "ax[0].set_xlabel(\"Time (min)\")\n",
    "ax[0].set_title(\"w'Tv'\")\n",
    "ax[1].plot(obs_data['Time'], obs_data['w_prime x q_prime'])\n",
    "ax[1].set_ylabel(\"w'q' (m/s * kg/kg)\")\n",
    "ax[1].set_xlabel(\"Time (min)\")\n",
    "ax[1].set_title(\"w'q'\")\n",
    "plt.tight_layout()\n",
    "plt.show()\n"
   ]
  },
  {
   "cell_type": "markdown",
   "metadata": {},
   "source": [
    "# Problem 1c\n",
    "(c)\tAssuming the density of air rho_a = 1.28 kg m-3, the latent heat of vaporization of water lambda = 2.45 MJ kg-1, and specific heat of air at constant pressure cp = 1.01 kJ kg-1, what are the hourly average values of sensible heat, H, and latent heat flux, E, (both in units of W m-2) that he calculated from these measurements? (20 points)"
   ]
  },
  {
   "cell_type": "code",
   "execution_count": 67,
   "metadata": {},
   "outputs": [
    {
     "name": "stdout",
     "output_type": "stream",
     "text": [
      "Time Averaged Latent Heat Flux: 271.69 W/m^2\n",
      "Time Averaged Sensible Heat Flux: 118.94 W/m^2\n"
     ]
    }
   ],
   "source": [
    "\n",
    "#Given data\n",
    "rho_a = 1.28 #kg m-3 density of air \n",
    "LH = 2.45 * 10**6 # J kg-1 latent heat of vaporization\n",
    "c_p = 1.01 * 10**3 # J kg-1 K-1 specific heat of air at constant pressure \n",
    "\n",
    "w_prime_Tv_prime_bar = obs_data['w_prime x Tv_prime'].mean()\n",
    "w_prime_q_prime_bar = obs_data['w_prime x q_prime'].mean()\n",
    "LH_flux = rho_a * LH * w_prime_q_prime_bar # Eq. 7.7 in TH\n",
    "SH_flux = rho_a * c_p * w_prime_Tv_prime_bar # Eq. 7.8 in TH\n",
    "\n",
    "print(f\"Time Averaged Latent Heat Flux: {LH_flux:.2f} W/m^2\")\n",
    "print(f\"Time Averaged Sensible Heat Flux: {SH_flux:.2f} W/m^2\")\n",
    "\n"
   ]
  },
  {
   "cell_type": "markdown",
   "metadata": {},
   "source": [
    "\n",
    "# Problem 1d\n",
    "(d)\tWhat value of sensible heat would he have calculated had he for simplicity assumed the virtual temperature of the air, Tv, was always equal to the air temperature, T? Can you explain this result? (10 points)\n"
   ]
  },
  {
   "cell_type": "code",
   "execution_count": 68,
   "metadata": {},
   "outputs": [
    {
     "name": "stdout",
     "output_type": "stream",
     "text": [
      "Time Averaged Sensible Heat Flux: 114.13 W/m^2\n"
     ]
    }
   ],
   "source": [
    "obs_data['T_prime'] = obs_data['T'] - obs_data['T'].mean()\n",
    "obs_data['w_prime x T_prime'] = obs_data['w_prime'] * obs_data['T_prime']\n",
    "\n",
    "w_prime_T_prime_bar = obs_data['w_prime x T_prime'].mean()\n",
    "SH_flux_T = rho_a * c_p * w_prime_T_prime_bar # Eq. 7.8 in TH\n",
    "\n",
    "#print in decimal notation with 2 decimal places\n",
    "print(f\"Time Averaged Sensible Heat Flux: {SH_flux_T:.2f} W/m^2\")\n"
   ]
  },
  {
   "cell_type": "markdown",
   "metadata": {},
   "source": [
    "# Why is sensible heat lower when calculated using T instead of T<sub>v</sub>?\n",
    "\n",
    "T<sub>v</sub> accounts for turbulent mixing in the atmosphere. The flucuations of temperature form the mean are only pseudo-random - on average warm ai r will tend to move upwards and cold air will tend to move downwards. If we use T' instead of T<sub>v</sub>' to calcualte sensible heat flux, we would be ignoring this effect and should get a lower value for sensible heat flux. \n",
    "\n",
    "\n",
    "\n",
    "-------------------------------------------------------------------------------------------------------------------------------------------------------------------------------------------------\n",
    "\n"
   ]
  },
  {
   "cell_type": "markdown",
   "metadata": {},
   "source": [
    "# Problem 1e\n",
    "\n",
    "(e)\tOften the ratio of the sum of the sensible heat plus latent heat fluxes measured using the eddy correlation method relative to the available energy is called the \"recovery ratio\".\n",
    "\n",
    "During the hour for which sensible and latent heat flux measurements were made using the eddy correlation method, the measured incoming solar radiation near the ground was 685 W m-2, and the measured incoming and outgoing longwave radiation near the ground were 281 W m-2  and 312 W m-2, respectively. The soil heat flux measured at 5 cm depth was 18 W m-2; and the average temperature of the 5 cm layer of soil above the soil heat plate during this hour increased by 0.9 deg C.  Neglecting all other components in the energy balance (e.g., physical energy storage, physical energy storage, advection, etc), what was the recovery ratio that the micrometeorologist found? (10 points)\n"
   ]
  },
  {
   "cell_type": "code",
   "execution_count": 69,
   "metadata": {},
   "outputs": [
    {
     "name": "stdout",
     "output_type": "stream",
     "text": [
      "Surface Soil Heat Flux: 56.75 W/m^2\n",
      "Recovery Ratio: 0.89\n"
     ]
    }
   ],
   "source": [
    "#Soil heat flux\n",
    "d = 0.05 # m depth of soil\n",
    "dT = 0.9 # C temperature difference between soil and air\n",
    "G_d = 18 # W/m^2 soil heat flux\n",
    "t = 3600 # s in one hour of measurement\n",
    "Cs = 3.10 * 10**6 # J m-3 K-1 Heat Capacity of soil from Table 6.1 in TH\n",
    "\n",
    "S_in = 685 # W/m^2 incoming solar radiation\n",
    "L_in =  281 # W/m^2 incoming longwave radiation\n",
    "L_out = 312 # W/m^2 outgoing longwave radiation\n",
    "\n",
    "#Calculate the net radiation\n",
    "R_net = S_in * (1 - albedo) + (L_in - L_out) # Equation 5.28 in TH\n",
    "#Calculate surface soil heat flux from soil heat flux and net radiation\n",
    "G_surf = G_d + Cs * d * dT / t # Equation 7.1 in TH\n",
    "\n",
    "print(f\"Surface Soil Heat Flux: {G_surf:.2f} W/m^2\")\n",
    "\n",
    "Available_Energy = R_net - G_surf # Equation 4.3 in TH\n",
    "\n",
    "Recovery_Ratio = (LH_flux + SH_flux) / Available_Energy # From problem statement\n",
    "\n",
    "print(f\"Recovery Ratio: {Recovery_Ratio:.2f}\")"
   ]
  },
  {
   "cell_type": "markdown",
   "metadata": {},
   "source": [
    "# Problem 1f\n",
    "\n",
    "## Explain this recovery ratio:\n",
    "\n",
    "\n"
   ]
  },
  {
   "cell_type": "markdown",
   "metadata": {},
   "source": [
    "The recovery ratio is a measure of the closure of the energy balance - in an ideal system where all variables were measured accurately, the recovery ratio would be 1. The recovery ratio of 0.89 indicates there in an 11% descrepancy in the energy budget, which is likely due to error in the measurement of one of the variables (i.e. errors in measurment of wind speed, temperature, or humidity)."
   ]
  },
  {
   "cell_type": "markdown",
   "metadata": {},
   "source": [
    "# Problem 2\n",
    "\n",
    "#### Part a:  How can we use diffusion equations to estimate turbulent flux E (Evaporation/Transpiration) into the atmosphere (i.e. the Atmospheric Boundary Layer)?\n",
    "\n",
    "\n",
    "#### Part b: Explain the need for stability correction factors Φ and its role in estimation under different degrees of atmospheric stability"
   ]
  }
 ],
 "metadata": {
  "kernelspec": {
   "display_name": "EcoHydro",
   "language": "python",
   "name": "python3"
  },
  "language_info": {
   "codemirror_mode": {
    "name": "ipython",
    "version": 3
   },
   "file_extension": ".py",
   "mimetype": "text/x-python",
   "name": "python",
   "nbconvert_exporter": "python",
   "pygments_lexer": "ipython3",
   "version": "3.11.7"
  }
 },
 "nbformat": 4,
 "nbformat_minor": 2
}
